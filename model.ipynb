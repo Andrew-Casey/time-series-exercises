{
 "cells": [
  {
   "cell_type": "code",
   "execution_count": 1,
   "id": "de69d4cb",
   "metadata": {},
   "outputs": [],
   "source": [
    "# for presentation purposes\n",
    "import warnings\n",
    "warnings.filterwarnings(\"ignore\")\n",
    "\n",
    "# wrangle\n",
    "import env\n",
    "import os\n",
    "import os\n",
    "import acquire as a\n",
    "import prepare as p\n",
    "# transform\n",
    "import numpy as np\n",
    "import pandas as pd\n",
    "\n",
    "# visualize \n",
    "import matplotlib.pyplot as plt\n",
    "import seaborn as sns\n",
    "\n",
    "# working with dates\n",
    "from datetime import datetime\n",
    "\n",
    "# modeling\n",
    "import statsmodels.api as sm\n",
    "from statsmodels.tsa.api import Holt, ExponentialSmoothing\n",
    "\n",
    "# evaluate\n",
    "from sklearn.metrics import mean_squared_error\n",
    "from math import sqrt "
   ]
  },
  {
   "cell_type": "code",
   "execution_count": 2,
   "id": "c93629d8",
   "metadata": {},
   "outputs": [],
   "source": [
    "# read in csv\n",
    "df = pd.read_csv('saas.csv')"
   ]
  },
  {
   "cell_type": "code",
   "execution_count": 3,
   "id": "dc193075",
   "metadata": {},
   "outputs": [
    {
     "data": {
      "text/html": [
       "<div>\n",
       "<style scoped>\n",
       "    .dataframe tbody tr th:only-of-type {\n",
       "        vertical-align: middle;\n",
       "    }\n",
       "\n",
       "    .dataframe tbody tr th {\n",
       "        vertical-align: top;\n",
       "    }\n",
       "\n",
       "    .dataframe thead th {\n",
       "        text-align: right;\n",
       "    }\n",
       "</style>\n",
       "<table border=\"1\" class=\"dataframe\">\n",
       "  <thead>\n",
       "    <tr style=\"text-align: right;\">\n",
       "      <th></th>\n",
       "      <th>Month_Invoiced</th>\n",
       "      <th>Customer_Id</th>\n",
       "      <th>Invoice_Id</th>\n",
       "      <th>Subscription_Type</th>\n",
       "      <th>Amount</th>\n",
       "    </tr>\n",
       "  </thead>\n",
       "  <tbody>\n",
       "    <tr>\n",
       "      <th>0</th>\n",
       "      <td>2014-01-31</td>\n",
       "      <td>1000000</td>\n",
       "      <td>5000000</td>\n",
       "      <td>0.0</td>\n",
       "      <td>0.0</td>\n",
       "    </tr>\n",
       "    <tr>\n",
       "      <th>1</th>\n",
       "      <td>2014-01-31</td>\n",
       "      <td>1000001</td>\n",
       "      <td>5000001</td>\n",
       "      <td>2.0</td>\n",
       "      <td>10.0</td>\n",
       "    </tr>\n",
       "    <tr>\n",
       "      <th>2</th>\n",
       "      <td>2014-01-31</td>\n",
       "      <td>1000002</td>\n",
       "      <td>5000002</td>\n",
       "      <td>0.0</td>\n",
       "      <td>0.0</td>\n",
       "    </tr>\n",
       "    <tr>\n",
       "      <th>3</th>\n",
       "      <td>2014-01-31</td>\n",
       "      <td>1000003</td>\n",
       "      <td>5000003</td>\n",
       "      <td>0.0</td>\n",
       "      <td>0.0</td>\n",
       "    </tr>\n",
       "    <tr>\n",
       "      <th>4</th>\n",
       "      <td>2014-01-31</td>\n",
       "      <td>1000004</td>\n",
       "      <td>5000004</td>\n",
       "      <td>1.0</td>\n",
       "      <td>5.0</td>\n",
       "    </tr>\n",
       "  </tbody>\n",
       "</table>\n",
       "</div>"
      ],
      "text/plain": [
       "  Month_Invoiced  Customer_Id  Invoice_Id  Subscription_Type  Amount\n",
       "0     2014-01-31      1000000     5000000                0.0     0.0\n",
       "1     2014-01-31      1000001     5000001                2.0    10.0\n",
       "2     2014-01-31      1000002     5000002                0.0     0.0\n",
       "3     2014-01-31      1000003     5000003                0.0     0.0\n",
       "4     2014-01-31      1000004     5000004                1.0     5.0"
      ]
     },
     "execution_count": 3,
     "metadata": {},
     "output_type": "execute_result"
    }
   ],
   "source": [
    "# check it out\n",
    "df.head()"
   ]
  },
  {
   "cell_type": "code",
   "execution_count": 4,
   "id": "3c38eba0",
   "metadata": {},
   "outputs": [
    {
     "data": {
      "text/plain": [
       "Month_Invoiced       0\n",
       "Customer_Id          0\n",
       "Invoice_Id           0\n",
       "Subscription_Type    0\n",
       "Amount               0\n",
       "dtype: int64"
      ]
     },
     "execution_count": 4,
     "metadata": {},
     "output_type": "execute_result"
    }
   ],
   "source": [
    "# check for null values\n",
    "df.isnull().sum()"
   ]
  },
  {
   "cell_type": "code",
   "execution_count": 5,
   "id": "fdaf0f55",
   "metadata": {
    "scrolled": true
   },
   "outputs": [
    {
     "name": "stdout",
     "output_type": "stream",
     "text": [
      "<class 'pandas.core.frame.DataFrame'>\n",
      "RangeIndex: 790458 entries, 0 to 790457\n",
      "Data columns (total 5 columns):\n",
      " #   Column             Non-Null Count   Dtype  \n",
      "---  ------             --------------   -----  \n",
      " 0   Month_Invoiced     790458 non-null  object \n",
      " 1   Customer_Id        790458 non-null  int64  \n",
      " 2   Invoice_Id         790458 non-null  int64  \n",
      " 3   Subscription_Type  790458 non-null  float64\n",
      " 4   Amount             790458 non-null  float64\n",
      "dtypes: float64(2), int64(2), object(1)\n",
      "memory usage: 30.2+ MB\n"
     ]
    }
   ],
   "source": [
    "# check out details of the dataframe\n",
    "df.info()"
   ]
  },
  {
   "cell_type": "code",
   "execution_count": 6,
   "id": "a2d8b239",
   "metadata": {
    "scrolled": true
   },
   "outputs": [
    {
     "data": {
      "text/html": [
       "<div>\n",
       "<style scoped>\n",
       "    .dataframe tbody tr th:only-of-type {\n",
       "        vertical-align: middle;\n",
       "    }\n",
       "\n",
       "    .dataframe tbody tr th {\n",
       "        vertical-align: top;\n",
       "    }\n",
       "\n",
       "    .dataframe thead th {\n",
       "        text-align: right;\n",
       "    }\n",
       "</style>\n",
       "<table border=\"1\" class=\"dataframe\">\n",
       "  <thead>\n",
       "    <tr style=\"text-align: right;\">\n",
       "      <th></th>\n",
       "      <th>month_invoiced</th>\n",
       "      <th>customer_id</th>\n",
       "      <th>invoice_id</th>\n",
       "      <th>subscription_type</th>\n",
       "      <th>amount</th>\n",
       "    </tr>\n",
       "  </thead>\n",
       "  <tbody>\n",
       "    <tr>\n",
       "      <th>0</th>\n",
       "      <td>2014-01-31</td>\n",
       "      <td>1000000</td>\n",
       "      <td>5000000</td>\n",
       "      <td>0.0</td>\n",
       "      <td>0.0</td>\n",
       "    </tr>\n",
       "    <tr>\n",
       "      <th>1</th>\n",
       "      <td>2014-01-31</td>\n",
       "      <td>1000001</td>\n",
       "      <td>5000001</td>\n",
       "      <td>2.0</td>\n",
       "      <td>10.0</td>\n",
       "    </tr>\n",
       "    <tr>\n",
       "      <th>2</th>\n",
       "      <td>2014-01-31</td>\n",
       "      <td>1000002</td>\n",
       "      <td>5000002</td>\n",
       "      <td>0.0</td>\n",
       "      <td>0.0</td>\n",
       "    </tr>\n",
       "    <tr>\n",
       "      <th>3</th>\n",
       "      <td>2014-01-31</td>\n",
       "      <td>1000003</td>\n",
       "      <td>5000003</td>\n",
       "      <td>0.0</td>\n",
       "      <td>0.0</td>\n",
       "    </tr>\n",
       "    <tr>\n",
       "      <th>4</th>\n",
       "      <td>2014-01-31</td>\n",
       "      <td>1000004</td>\n",
       "      <td>5000004</td>\n",
       "      <td>1.0</td>\n",
       "      <td>5.0</td>\n",
       "    </tr>\n",
       "  </tbody>\n",
       "</table>\n",
       "</div>"
      ],
      "text/plain": [
       "  month_invoiced  customer_id  invoice_id  subscription_type  amount\n",
       "0     2014-01-31      1000000     5000000                0.0     0.0\n",
       "1     2014-01-31      1000001     5000001                2.0    10.0\n",
       "2     2014-01-31      1000002     5000002                0.0     0.0\n",
       "3     2014-01-31      1000003     5000003                0.0     0.0\n",
       "4     2014-01-31      1000004     5000004                1.0     5.0"
      ]
     },
     "execution_count": 6,
     "metadata": {},
     "output_type": "execute_result"
    }
   ],
   "source": [
    "# make all columns lower case\n",
    "df.columns = df.columns.str.lower()\n",
    "df.head()"
   ]
  },
  {
   "cell_type": "code",
   "execution_count": 7,
   "id": "39b1471f",
   "metadata": {},
   "outputs": [
    {
     "data": {
      "text/plain": [
       "month_invoiced        object\n",
       "customer_id            int64\n",
       "invoice_id             int64\n",
       "subscription_type    float64\n",
       "amount               float64\n",
       "dtype: object"
      ]
     },
     "execution_count": 7,
     "metadata": {},
     "output_type": "execute_result"
    }
   ],
   "source": [
    "df.dtypes"
   ]
  },
  {
   "cell_type": "code",
   "execution_count": 8,
   "id": "003fd49e",
   "metadata": {},
   "outputs": [],
   "source": [
    "# set column to_datetime\n",
    "df.month_invoiced = pd.to_datetime(df['month_invoiced'])\n",
    "\n"
   ]
  },
  {
   "cell_type": "code",
   "execution_count": 9,
   "id": "93d0752c",
   "metadata": {
    "scrolled": true
   },
   "outputs": [
    {
     "data": {
      "text/plain": [
       "month_invoiced       datetime64[ns]\n",
       "customer_id                   int64\n",
       "invoice_id                    int64\n",
       "subscription_type           float64\n",
       "amount                      float64\n",
       "dtype: object"
      ]
     },
     "execution_count": 9,
     "metadata": {},
     "output_type": "execute_result"
    }
   ],
   "source": [
    "df.dtypes"
   ]
  },
  {
   "cell_type": "code",
   "execution_count": 10,
   "id": "6a24de33",
   "metadata": {},
   "outputs": [],
   "source": [
    "#make that value our index\n",
    "df = df.set_index('month_invoiced').sort_index()"
   ]
  },
  {
   "cell_type": "markdown",
   "id": "bd7b4a05",
   "metadata": {},
   "source": [
    "# 1\n",
    "Split data (train/test) and resample by any period, except daily, and aggregate using the sum."
   ]
  },
  {
   "cell_type": "code",
   "execution_count": 11,
   "id": "eb695bdd",
   "metadata": {},
   "outputs": [
    {
     "data": {
      "text/html": [
       "<div>\n",
       "<style scoped>\n",
       "    .dataframe tbody tr th:only-of-type {\n",
       "        vertical-align: middle;\n",
       "    }\n",
       "\n",
       "    .dataframe tbody tr th {\n",
       "        vertical-align: top;\n",
       "    }\n",
       "\n",
       "    .dataframe thead th {\n",
       "        text-align: right;\n",
       "    }\n",
       "</style>\n",
       "<table border=\"1\" class=\"dataframe\">\n",
       "  <thead>\n",
       "    <tr style=\"text-align: right;\">\n",
       "      <th></th>\n",
       "      <th>amount</th>\n",
       "    </tr>\n",
       "    <tr>\n",
       "      <th>month_invoiced</th>\n",
       "      <th></th>\n",
       "    </tr>\n",
       "  </thead>\n",
       "  <tbody>\n",
       "    <tr>\n",
       "      <th>2014-01-31</th>\n",
       "      <td>35850.0</td>\n",
       "    </tr>\n",
       "    <tr>\n",
       "      <th>2014-02-28</th>\n",
       "      <td>37190.0</td>\n",
       "    </tr>\n",
       "  </tbody>\n",
       "</table>\n",
       "</div>"
      ],
      "text/plain": [
       "                 amount\n",
       "month_invoiced         \n",
       "2014-01-31      35850.0\n",
       "2014-02-28      37190.0"
      ]
     },
     "execution_count": 11,
     "metadata": {},
     "output_type": "execute_result"
    }
   ],
   "source": [
    "# resample by day, sum\n",
    "df_resampled = df.resample('m')[['amount']].sum()\n",
    "df_resampled.head(2)"
   ]
  },
  {
   "cell_type": "code",
   "execution_count": 12,
   "id": "c13be4d2",
   "metadata": {},
   "outputs": [],
   "source": [
    "# Drop February 29th from our dataset (a leap year date)\n",
    "df_ressampled = df_resampled[df_resampled.index != '2016-02-29']"
   ]
  },
  {
   "cell_type": "code",
   "execution_count": 13,
   "id": "bf28e301",
   "metadata": {
    "scrolled": true
   },
   "outputs": [
    {
     "data": {
      "text/html": [
       "<div>\n",
       "<style scoped>\n",
       "    .dataframe tbody tr th:only-of-type {\n",
       "        vertical-align: middle;\n",
       "    }\n",
       "\n",
       "    .dataframe tbody tr th {\n",
       "        vertical-align: top;\n",
       "    }\n",
       "\n",
       "    .dataframe thead th {\n",
       "        text-align: right;\n",
       "    }\n",
       "</style>\n",
       "<table border=\"1\" class=\"dataframe\">\n",
       "  <thead>\n",
       "    <tr style=\"text-align: right;\">\n",
       "      <th></th>\n",
       "      <th>amount</th>\n",
       "    </tr>\n",
       "    <tr>\n",
       "      <th>month_invoiced</th>\n",
       "      <th></th>\n",
       "    </tr>\n",
       "  </thead>\n",
       "  <tbody>\n",
       "    <tr>\n",
       "      <th>2014-01-31</th>\n",
       "      <td>35850.0</td>\n",
       "    </tr>\n",
       "    <tr>\n",
       "      <th>2014-02-28</th>\n",
       "      <td>37190.0</td>\n",
       "    </tr>\n",
       "    <tr>\n",
       "      <th>2014-03-31</th>\n",
       "      <td>38295.0</td>\n",
       "    </tr>\n",
       "    <tr>\n",
       "      <th>2014-04-30</th>\n",
       "      <td>39255.0</td>\n",
       "    </tr>\n",
       "    <tr>\n",
       "      <th>2014-05-31</th>\n",
       "      <td>40355.0</td>\n",
       "    </tr>\n",
       "  </tbody>\n",
       "</table>\n",
       "</div>"
      ],
      "text/plain": [
       "                 amount\n",
       "month_invoiced         \n",
       "2014-01-31      35850.0\n",
       "2014-02-28      37190.0\n",
       "2014-03-31      38295.0\n",
       "2014-04-30      39255.0\n",
       "2014-05-31      40355.0"
      ]
     },
     "execution_count": 13,
     "metadata": {},
     "output_type": "execute_result"
    }
   ],
   "source": [
    "df_ressampled.head()"
   ]
  },
  {
   "cell_type": "code",
   "execution_count": 14,
   "id": "94ca3094",
   "metadata": {},
   "outputs": [
    {
     "data": {
      "text/plain": [
       "(48, 1)"
      ]
     },
     "execution_count": 14,
     "metadata": {},
     "output_type": "execute_result"
    }
   ],
   "source": [
    "df_resampled.shape"
   ]
  },
  {
   "cell_type": "code",
   "execution_count": 15,
   "id": "c8e36973",
   "metadata": {},
   "outputs": [],
   "source": [
    "# take 50% of our data for train (round to integer for a whole number)\n",
    "train_size = int(.5 * len(df_resampled))\n",
    "# take 30% for validation\n",
    "validate_size = int(len(df_resampled) * .3)\n",
    "# get the remainder or rows for test\n",
    "test_size = int(len(df_resampled) - train_size - validate_size)\n",
    "# get the delineation point between validate and test by summing train and validate\n",
    "validate_end_index = train_size + validate_size\n",
    "\n",
    "# split into train, validation, test\n",
    "train = df_resampled[:train_size]\n",
    "validate = df_resampled[train_size:validate_end_index]\n",
    "test = df_resampled[validate_end_index:]"
   ]
  },
  {
   "cell_type": "code",
   "execution_count": 16,
   "id": "f317fe1a",
   "metadata": {},
   "outputs": [
    {
     "data": {
      "text/plain": [
       "48"
      ]
     },
     "execution_count": 16,
     "metadata": {},
     "output_type": "execute_result"
    }
   ],
   "source": [
    "train.shape[0] +validate.shape[0]+ test.shape[0]"
   ]
  },
  {
   "cell_type": "code",
   "execution_count": 17,
   "id": "b2f0a5c8",
   "metadata": {},
   "outputs": [
    {
     "data": {
      "image/png": "[encoded data removed]",
      "text/plain": [
       "<Figure size 1200x600 with 1 Axes>"
      ]
     },
     "metadata": {},
     "output_type": "display_data"
    }
   ],
   "source": [
    "# plotting the values of amount over time by data subset:\n",
    "for col in train.columns:\n",
    "    plt.figure(figsize=(12, 6))\n",
    "    plt.plot(train[col])\n",
    "    plt.plot(validate[col])\n",
    "    plt.plot(test[col])\n",
    "    plt.ylabel(col)\n",
    "    plt.title(col)\n",
    "    plt.show()"
   ]
  },
  {
   "cell_type": "markdown",
   "id": "f93aa69c",
   "metadata": {},
   "source": [
    "# helper functions"
   ]
  },
  {
   "cell_type": "code",
   "execution_count": 18,
   "id": "22530d38",
   "metadata": {},
   "outputs": [],
   "source": [
    "# evaluation function to compute rmse\n",
    "# calculate an error metric on the validation's target versus predictions\n",
    "def evaluate(target_var):\n",
    "    '''\n",
    "    This function will take the actual values of the target_var from validate, \n",
    "    and the predicted values stored in yhat_df, \n",
    "    and compute the rmse, rounding to 0 decimal places. \n",
    "    it will return the rmse. \n",
    "    '''\n",
    "    rmse = round(\n",
    "        sqrt(\n",
    "            mean_squared_error(\n",
    "            validate[target_var],\n",
    "            yhat_df[target_var])\n",
    "        ),0)\n",
    "    return rmse"
   ]
  },
  {
   "cell_type": "code",
   "execution_count": 19,
   "id": "30ef8aeb",
   "metadata": {},
   "outputs": [],
   "source": [
    "# plot and evaluate \n",
    "def plot_and_eval(target_var):\n",
    "    '''\n",
    "    This function takes in the target var name (string), and returns a plot\n",
    "    of the values of train for that variable, validate, and the predicted values from yhat_df. \n",
    "    it will als lable the rmse. \n",
    "    '''\n",
    "    plt.figure(figsize = (12,4))\n",
    "    plt.plot(train[target_var], label='Train', linewidth=1)\n",
    "    plt.plot(validate[target_var], label='Validate', linewidth=1)\n",
    "    plt.plot(yhat_df[target_var], linewidth=1)\n",
    "    plt.title(target_var)\n",
    "    rmse = evaluate(target_var)\n",
    "    print(target_var, f'-- rmse: {round(rmse)}')\n",
    "    plt.show()"
   ]
  },
  {
   "cell_type": "code",
   "execution_count": 20,
   "id": "93b7f97d",
   "metadata": {},
   "outputs": [
    {
     "data": {
      "text/html": [
       "<div>\n",
       "<style scoped>\n",
       "    .dataframe tbody tr th:only-of-type {\n",
       "        vertical-align: middle;\n",
       "    }\n",
       "\n",
       "    .dataframe tbody tr th {\n",
       "        vertical-align: top;\n",
       "    }\n",
       "\n",
       "    .dataframe thead th {\n",
       "        text-align: right;\n",
       "    }\n",
       "</style>\n",
       "<table border=\"1\" class=\"dataframe\">\n",
       "  <thead>\n",
       "    <tr style=\"text-align: right;\">\n",
       "      <th></th>\n",
       "      <th>model_type</th>\n",
       "      <th>target_var</th>\n",
       "      <th>rmse</th>\n",
       "    </tr>\n",
       "  </thead>\n",
       "  <tbody>\n",
       "  </tbody>\n",
       "</table>\n",
       "</div>"
      ],
      "text/plain": [
       "Empty DataFrame\n",
       "Columns: [model_type, target_var, rmse]\n",
       "Index: []"
      ]
     },
     "execution_count": 20,
     "metadata": {},
     "output_type": "execute_result"
    }
   ],
   "source": [
    "# Create the empty dataframe\n",
    "eval_df = pd.DataFrame(columns=['model_type', 'target_var', 'rmse'])\n",
    "eval_df"
   ]
  },
  {
   "cell_type": "code",
   "execution_count": 21,
   "id": "08243571",
   "metadata": {},
   "outputs": [],
   "source": [
    "# function to store rmse for comparison purposes\n",
    "def append_eval_df(model_type, target_var):\n",
    "    '''\n",
    "    this function takes in as arguments the type of model run, and the name of the target variable. \n",
    "    It returns the eval_df with the rmse appended to it for that model and target_var. \n",
    "    '''\n",
    "    rmse = evaluate(target_var)\n",
    "    d = {'model_type': [model_type], 'target_var': [target_var], 'rmse': [rmse]}\n",
    "    return pd.concat([eval_df, pd.DataFrame(d)])"
   ]
  },
  {
   "cell_type": "markdown",
   "id": "085212da",
   "metadata": {},
   "source": [
    "# Last Observed Value"
   ]
  },
  {
   "cell_type": "code",
   "execution_count": 22,
   "id": "4ae87c5b",
   "metadata": {},
   "outputs": [
    {
     "data": {
      "text/plain": [
       "51505.0"
      ]
     },
     "execution_count": 22,
     "metadata": {},
     "output_type": "execute_result"
    }
   ],
   "source": [
    "# going forward form the -1st element in the train's amount\n",
    "# then rip out the value associated\n",
    "train['amount'][-1:][0]"
   ]
  },
  {
   "cell_type": "code",
   "execution_count": 23,
   "id": "49080b40",
   "metadata": {},
   "outputs": [],
   "source": [
    "# take the last item of amount and assign to variable\n",
    "# indexing: last thing to the end, then the first element\n",
    "last_amount = train['amount'][-1:][0]\n",
    "\n",
    "\n",
    "\n",
    "# let's make the prediction dataframe that we referenced a little earlier\n",
    "yhat_df = pd.DataFrame(\n",
    "    {\n",
    "    'amount': [last_amount],\n",
    "    }, \n",
    "    index = validate.index\n",
    ")"
   ]
  },
  {
   "cell_type": "code",
   "execution_count": 24,
   "id": "37675692",
   "metadata": {},
   "outputs": [
    {
     "data": {
      "text/html": [
       "<div>\n",
       "<style scoped>\n",
       "    .dataframe tbody tr th:only-of-type {\n",
       "        vertical-align: middle;\n",
       "    }\n",
       "\n",
       "    .dataframe tbody tr th {\n",
       "        vertical-align: top;\n",
       "    }\n",
       "\n",
       "    .dataframe thead th {\n",
       "        text-align: right;\n",
       "    }\n",
       "</style>\n",
       "<table border=\"1\" class=\"dataframe\">\n",
       "  <thead>\n",
       "    <tr style=\"text-align: right;\">\n",
       "      <th></th>\n",
       "      <th>amount</th>\n",
       "    </tr>\n",
       "    <tr>\n",
       "      <th>month_invoiced</th>\n",
       "      <th></th>\n",
       "    </tr>\n",
       "  </thead>\n",
       "  <tbody>\n",
       "    <tr>\n",
       "      <th>2016-01-31</th>\n",
       "      <td>51505.0</td>\n",
       "    </tr>\n",
       "    <tr>\n",
       "      <th>2016-02-29</th>\n",
       "      <td>51505.0</td>\n",
       "    </tr>\n",
       "    <tr>\n",
       "      <th>2016-03-31</th>\n",
       "      <td>51505.0</td>\n",
       "    </tr>\n",
       "    <tr>\n",
       "      <th>2016-04-30</th>\n",
       "      <td>51505.0</td>\n",
       "    </tr>\n",
       "    <tr>\n",
       "      <th>2016-05-31</th>\n",
       "      <td>51505.0</td>\n",
       "    </tr>\n",
       "  </tbody>\n",
       "</table>\n",
       "</div>"
      ],
      "text/plain": [
       "                 amount\n",
       "month_invoiced         \n",
       "2016-01-31      51505.0\n",
       "2016-02-29      51505.0\n",
       "2016-03-31      51505.0\n",
       "2016-04-30      51505.0\n",
       "2016-05-31      51505.0"
      ]
     },
     "execution_count": 24,
     "metadata": {},
     "output_type": "execute_result"
    }
   ],
   "source": [
    "# use the plot and eval function we defined earlier for both targets:\n",
    "yhat_df.head()"
   ]
  },
  {
   "cell_type": "code",
   "execution_count": 25,
   "id": "dd0accbd",
   "metadata": {},
   "outputs": [
    {
     "name": "stdout",
     "output_type": "stream",
     "text": [
      "amount -- rmse: 1343\n"
     ]
    },
    {
     "data": {
      "image/png": "[encoded data removed]",
      "text/plain": [
       "<Figure size 1200x400 with 1 Axes>"
      ]
     },
     "metadata": {},
     "output_type": "display_data"
    }
   ],
   "source": [
    "for col in train.columns:\n",
    "    plot_and_eval(col)"
   ]
  },
  {
   "cell_type": "code",
   "execution_count": 26,
   "id": "5aaced61",
   "metadata": {},
   "outputs": [],
   "source": [
    "for col in train.columns:\n",
    "    eval_df = append_eval_df(model_type = 'last_observed_value',\n",
    "                            target_var=col)"
   ]
  },
  {
   "cell_type": "code",
   "execution_count": 27,
   "id": "0dea7c39",
   "metadata": {},
   "outputs": [
    {
     "data": {
      "text/html": [
       "<div>\n",
       "<style scoped>\n",
       "    .dataframe tbody tr th:only-of-type {\n",
       "        vertical-align: middle;\n",
       "    }\n",
       "\n",
       "    .dataframe tbody tr th {\n",
       "        vertical-align: top;\n",
       "    }\n",
       "\n",
       "    .dataframe thead th {\n",
       "        text-align: right;\n",
       "    }\n",
       "</style>\n",
       "<table border=\"1\" class=\"dataframe\">\n",
       "  <thead>\n",
       "    <tr style=\"text-align: right;\">\n",
       "      <th></th>\n",
       "      <th>model_type</th>\n",
       "      <th>target_var</th>\n",
       "      <th>rmse</th>\n",
       "    </tr>\n",
       "  </thead>\n",
       "  <tbody>\n",
       "    <tr>\n",
       "      <th>0</th>\n",
       "      <td>last_observed_value</td>\n",
       "      <td>amount</td>\n",
       "      <td>1343.0</td>\n",
       "    </tr>\n",
       "  </tbody>\n",
       "</table>\n",
       "</div>"
      ],
      "text/plain": [
       "            model_type target_var    rmse\n",
       "0  last_observed_value     amount  1343.0"
      ]
     },
     "execution_count": 27,
     "metadata": {},
     "output_type": "execute_result"
    }
   ],
   "source": [
    "eval_df"
   ]
  },
  {
   "cell_type": "markdown",
   "id": "485f7475",
   "metadata": {},
   "source": [
    "# Simple Average"
   ]
  },
  {
   "cell_type": "code",
   "execution_count": 28,
   "id": "ee08a85d",
   "metadata": {},
   "outputs": [
    {
     "data": {
      "text/html": [
       "<div>\n",
       "<style scoped>\n",
       "    .dataframe tbody tr th:only-of-type {\n",
       "        vertical-align: middle;\n",
       "    }\n",
       "\n",
       "    .dataframe tbody tr th {\n",
       "        vertical-align: top;\n",
       "    }\n",
       "\n",
       "    .dataframe thead th {\n",
       "        text-align: right;\n",
       "    }\n",
       "</style>\n",
       "<table border=\"1\" class=\"dataframe\">\n",
       "  <thead>\n",
       "    <tr style=\"text-align: right;\">\n",
       "      <th></th>\n",
       "      <th>amount</th>\n",
       "    </tr>\n",
       "    <tr>\n",
       "      <th>month_invoiced</th>\n",
       "      <th></th>\n",
       "    </tr>\n",
       "  </thead>\n",
       "  <tbody>\n",
       "    <tr>\n",
       "      <th>2016-01-31</th>\n",
       "      <td>45568.54</td>\n",
       "    </tr>\n",
       "    <tr>\n",
       "      <th>2016-02-29</th>\n",
       "      <td>45568.54</td>\n",
       "    </tr>\n",
       "    <tr>\n",
       "      <th>2016-03-31</th>\n",
       "      <td>45568.54</td>\n",
       "    </tr>\n",
       "  </tbody>\n",
       "</table>\n",
       "</div>"
      ],
      "text/plain": [
       "                  amount\n",
       "month_invoiced          \n",
       "2016-01-31      45568.54\n",
       "2016-02-29      45568.54\n",
       "2016-03-31      45568.54"
      ]
     },
     "execution_count": 28,
     "metadata": {},
     "output_type": "execute_result"
    }
   ],
   "source": [
    "# compute simple average of sales_total (from train data)\n",
    "avg_amount = round(train['amount'].mean(),2)\n",
    "\n",
    "yhat_df = pd.DataFrame({'amount': [avg_amount],\n",
    "                        },\n",
    "                        index=validate.index)\n",
    "\n",
    "yhat_df.head(3)"
   ]
  },
  {
   "cell_type": "code",
   "execution_count": 29,
   "id": "89de54e6",
   "metadata": {},
   "outputs": [
    {
     "name": "stdout",
     "output_type": "stream",
     "text": [
      "amount -- rmse: 7181\n"
     ]
    },
    {
     "data": {
      "image/png": "[encoded data removed]",
      "text/plain": [
       "<Figure size 1200x400 with 1 Axes>"
      ]
     },
     "metadata": {},
     "output_type": "display_data"
    }
   ],
   "source": [
    "# plot actuals vs. predicted\n",
    "for col in train.columns:\n",
    "    plot_and_eval(col)"
   ]
  },
  {
   "cell_type": "code",
   "execution_count": 30,
   "id": "f91f2b13",
   "metadata": {},
   "outputs": [
    {
     "data": {
      "text/html": [
       "<div>\n",
       "<style scoped>\n",
       "    .dataframe tbody tr th:only-of-type {\n",
       "        vertical-align: middle;\n",
       "    }\n",
       "\n",
       "    .dataframe tbody tr th {\n",
       "        vertical-align: top;\n",
       "    }\n",
       "\n",
       "    .dataframe thead th {\n",
       "        text-align: right;\n",
       "    }\n",
       "</style>\n",
       "<table border=\"1\" class=\"dataframe\">\n",
       "  <thead>\n",
       "    <tr style=\"text-align: right;\">\n",
       "      <th></th>\n",
       "      <th>model_type</th>\n",
       "      <th>target_var</th>\n",
       "      <th>rmse</th>\n",
       "    </tr>\n",
       "  </thead>\n",
       "  <tbody>\n",
       "    <tr>\n",
       "      <th>0</th>\n",
       "      <td>last_observed_value</td>\n",
       "      <td>amount</td>\n",
       "      <td>1343.0</td>\n",
       "    </tr>\n",
       "    <tr>\n",
       "      <th>0</th>\n",
       "      <td>simple_average</td>\n",
       "      <td>amount</td>\n",
       "      <td>7181.0</td>\n",
       "    </tr>\n",
       "  </tbody>\n",
       "</table>\n",
       "</div>"
      ],
      "text/plain": [
       "            model_type target_var    rmse\n",
       "0  last_observed_value     amount  1343.0\n",
       "0       simple_average     amount  7181.0"
      ]
     },
     "execution_count": 30,
     "metadata": {},
     "output_type": "execute_result"
    }
   ],
   "source": [
    "# evaluate\n",
    "for col in train.columns:\n",
    "    eval_df = append_eval_df(model_type='simple_average', \n",
    "                             target_var = col)\n",
    "eval_df"
   ]
  },
  {
   "cell_type": "markdown",
   "id": "27e589ff",
   "metadata": {},
   "source": [
    "# Moving Average"
   ]
  },
  {
   "cell_type": "code",
   "execution_count": 57,
   "id": "278632d7",
   "metadata": {},
   "outputs": [
    {
     "data": {
      "text/html": [
       "<div>\n",
       "<style scoped>\n",
       "    .dataframe tbody tr th:only-of-type {\n",
       "        vertical-align: middle;\n",
       "    }\n",
       "\n",
       "    .dataframe tbody tr th {\n",
       "        vertical-align: top;\n",
       "    }\n",
       "\n",
       "    .dataframe thead th {\n",
       "        text-align: right;\n",
       "    }\n",
       "</style>\n",
       "<table border=\"1\" class=\"dataframe\">\n",
       "  <thead>\n",
       "    <tr style=\"text-align: right;\">\n",
       "      <th></th>\n",
       "      <th>amount</th>\n",
       "    </tr>\n",
       "    <tr>\n",
       "      <th>month_invoiced</th>\n",
       "      <th></th>\n",
       "    </tr>\n",
       "  </thead>\n",
       "  <tbody>\n",
       "    <tr>\n",
       "      <th>2016-01-31</th>\n",
       "      <td>49612.92</td>\n",
       "    </tr>\n",
       "    <tr>\n",
       "      <th>2016-02-29</th>\n",
       "      <td>49612.92</td>\n",
       "    </tr>\n",
       "    <tr>\n",
       "      <th>2016-03-31</th>\n",
       "      <td>49612.92</td>\n",
       "    </tr>\n",
       "    <tr>\n",
       "      <th>2016-04-30</th>\n",
       "      <td>49612.92</td>\n",
       "    </tr>\n",
       "    <tr>\n",
       "      <th>2016-05-31</th>\n",
       "      <td>49612.92</td>\n",
       "    </tr>\n",
       "  </tbody>\n",
       "</table>\n",
       "</div>"
      ],
      "text/plain": [
       "                  amount\n",
       "month_invoiced          \n",
       "2016-01-31      49612.92\n",
       "2016-02-29      49612.92\n",
       "2016-03-31      49612.92\n",
       "2016-04-30      49612.92\n",
       "2016-05-31      49612.92"
      ]
     },
     "execution_count": 57,
     "metadata": {},
     "output_type": "execute_result"
    }
   ],
   "source": [
    "# compute a 30 day rolling average, \n",
    "# use the most recent/last 30 day period value to predict forward. \n",
    "\n",
    "period = 12\n",
    "\n",
    "rolling_amount = round(train['amount'].rolling(period).mean()[-1],2)\n",
    "\n",
    "# yhat_df = make_predictions()\n",
    "\n",
    "yhat_df = pd.DataFrame({'amount': rolling_amount,\n",
    "                        },\n",
    "                         index=validate.index)\n",
    "yhat_df.head()"
   ]
  },
  {
   "cell_type": "code",
   "execution_count": 58,
   "id": "91dfd1ed",
   "metadata": {},
   "outputs": [
    {
     "name": "stdout",
     "output_type": "stream",
     "text": [
      "amount -- rmse: 3164\n"
     ]
    },
    {
     "data": {
      "image/png": "[encoded data removed]",
      "text/plain": [
       "<Figure size 1200x400 with 1 Axes>"
      ]
     },
     "metadata": {},
     "output_type": "display_data"
    }
   ],
   "source": [
    "# plot actual vs. predicted\n",
    "for col in train.columns:\n",
    "    plot_and_eval(col)"
   ]
  },
  {
   "cell_type": "code",
   "execution_count": 59,
   "id": "31e309ca",
   "metadata": {},
   "outputs": [
    {
     "data": {
      "text/html": [
       "<div>\n",
       "<style scoped>\n",
       "    .dataframe tbody tr th:only-of-type {\n",
       "        vertical-align: middle;\n",
       "    }\n",
       "\n",
       "    .dataframe tbody tr th {\n",
       "        vertical-align: top;\n",
       "    }\n",
       "\n",
       "    .dataframe thead th {\n",
       "        text-align: right;\n",
       "    }\n",
       "</style>\n",
       "<table border=\"1\" class=\"dataframe\">\n",
       "  <thead>\n",
       "    <tr style=\"text-align: right;\">\n",
       "      <th></th>\n",
       "      <th>model_type</th>\n",
       "      <th>target_var</th>\n",
       "      <th>rmse</th>\n",
       "    </tr>\n",
       "  </thead>\n",
       "  <tbody>\n",
       "    <tr>\n",
       "      <th>0</th>\n",
       "      <td>last_observed_value</td>\n",
       "      <td>amount</td>\n",
       "      <td>1343.0</td>\n",
       "    </tr>\n",
       "    <tr>\n",
       "      <th>0</th>\n",
       "      <td>simple_average</td>\n",
       "      <td>amount</td>\n",
       "      <td>7181.0</td>\n",
       "    </tr>\n",
       "    <tr>\n",
       "      <th>0</th>\n",
       "      <td>1Y moving avg</td>\n",
       "      <td>amount</td>\n",
       "      <td>7181.0</td>\n",
       "    </tr>\n",
       "    <tr>\n",
       "      <th>0</th>\n",
       "      <td>2_month_moving_avg</td>\n",
       "      <td>amount</td>\n",
       "      <td>3164.0</td>\n",
       "    </tr>\n",
       "    <tr>\n",
       "      <th>0</th>\n",
       "      <td>3_month_moving_avg</td>\n",
       "      <td>amount</td>\n",
       "      <td>3164.0</td>\n",
       "    </tr>\n",
       "    <tr>\n",
       "      <th>0</th>\n",
       "      <td>6_month_moving_avg</td>\n",
       "      <td>amount</td>\n",
       "      <td>3164.0</td>\n",
       "    </tr>\n",
       "    <tr>\n",
       "      <th>0</th>\n",
       "      <td>holts_optimized</td>\n",
       "      <td>amount</td>\n",
       "      <td>456.0</td>\n",
       "    </tr>\n",
       "    <tr>\n",
       "      <th>0</th>\n",
       "      <td>holts_seasonal</td>\n",
       "      <td>amount</td>\n",
       "      <td>1502.0</td>\n",
       "    </tr>\n",
       "    <tr>\n",
       "      <th>0</th>\n",
       "      <td>1Y moving avg</td>\n",
       "      <td>amount</td>\n",
       "      <td>3164.0</td>\n",
       "    </tr>\n",
       "  </tbody>\n",
       "</table>\n",
       "</div>"
      ],
      "text/plain": [
       "            model_type target_var    rmse\n",
       "0  last_observed_value     amount  1343.0\n",
       "0       simple_average     amount  7181.0\n",
       "0        1Y moving avg     amount  7181.0\n",
       "0   2_month_moving_avg     amount  3164.0\n",
       "0   3_month_moving_avg     amount  3164.0\n",
       "0   6_month_moving_avg     amount  3164.0\n",
       "0      holts_optimized     amount   456.0\n",
       "0       holts_seasonal     amount  1502.0\n",
       "0        1Y moving avg     amount  3164.0"
      ]
     },
     "execution_count": 59,
     "metadata": {},
     "output_type": "execute_result"
    }
   ],
   "source": [
    "# evaluate on 1 year moving average\n",
    "for col in train.columns:\n",
    "    eval_df = append_eval_df(model_type='1Y moving avg', \n",
    "                             target_var = col)\n",
    "eval_df"
   ]
  },
  {
   "cell_type": "code",
   "execution_count": 60,
   "id": "b86fbbca",
   "metadata": {},
   "outputs": [],
   "source": [
    "# try bi-monthly, quarterly, half-year\n",
    "periods = [2, 3, 6,]\n",
    "\n",
    "for p in periods: \n",
    "    rolling_amount = round(train['amount'].rolling(period).mean()[-1],2)\n",
    "    \n",
    "    yhat_df = pd.DataFrame(\n",
    "        {\n",
    "            'amount' : [rolling_amount],\n",
    "        },\n",
    "        index = validate.index\n",
    "    )\n",
    "    model_type = str(p) + '_month_moving_avg'\n",
    "    # lets update the eval_df (remember we have two targets!)\n",
    "    for col in train.columns:\n",
    "        eval_df = append_eval_df(model_type = model_type, target_var = col)"
   ]
  },
  {
   "cell_type": "code",
   "execution_count": 34,
   "id": "4980ac6e",
   "metadata": {},
   "outputs": [
    {
     "data": {
      "text/html": [
       "<div>\n",
       "<style scoped>\n",
       "    .dataframe tbody tr th:only-of-type {\n",
       "        vertical-align: middle;\n",
       "    }\n",
       "\n",
       "    .dataframe tbody tr th {\n",
       "        vertical-align: top;\n",
       "    }\n",
       "\n",
       "    .dataframe thead th {\n",
       "        text-align: right;\n",
       "    }\n",
       "</style>\n",
       "<table border=\"1\" class=\"dataframe\">\n",
       "  <thead>\n",
       "    <tr style=\"text-align: right;\">\n",
       "      <th></th>\n",
       "      <th>model_type</th>\n",
       "      <th>target_var</th>\n",
       "      <th>rmse</th>\n",
       "    </tr>\n",
       "  </thead>\n",
       "  <tbody>\n",
       "    <tr>\n",
       "      <th>0</th>\n",
       "      <td>last_observed_value</td>\n",
       "      <td>amount</td>\n",
       "      <td>1343.0</td>\n",
       "    </tr>\n",
       "    <tr>\n",
       "      <th>0</th>\n",
       "      <td>simple_average</td>\n",
       "      <td>amount</td>\n",
       "      <td>7181.0</td>\n",
       "    </tr>\n",
       "    <tr>\n",
       "      <th>0</th>\n",
       "      <td>1Y moving avg</td>\n",
       "      <td>amount</td>\n",
       "      <td>7181.0</td>\n",
       "    </tr>\n",
       "    <tr>\n",
       "      <th>0</th>\n",
       "      <td>2_month_moving_avg</td>\n",
       "      <td>amount</td>\n",
       "      <td>3164.0</td>\n",
       "    </tr>\n",
       "    <tr>\n",
       "      <th>0</th>\n",
       "      <td>3_month_moving_avg</td>\n",
       "      <td>amount</td>\n",
       "      <td>3164.0</td>\n",
       "    </tr>\n",
       "    <tr>\n",
       "      <th>0</th>\n",
       "      <td>6_month_moving_avg</td>\n",
       "      <td>amount</td>\n",
       "      <td>3164.0</td>\n",
       "    </tr>\n",
       "  </tbody>\n",
       "</table>\n",
       "</div>"
      ],
      "text/plain": [
       "            model_type target_var    rmse\n",
       "0  last_observed_value     amount  1343.0\n",
       "0       simple_average     amount  7181.0\n",
       "0        1Y moving avg     amount  7181.0\n",
       "0   2_month_moving_avg     amount  3164.0\n",
       "0   3_month_moving_avg     amount  3164.0\n",
       "0   6_month_moving_avg     amount  3164.0"
      ]
     },
     "execution_count": 34,
     "metadata": {},
     "output_type": "execute_result"
    }
   ],
   "source": [
    "#check it out\n",
    "eval_df"
   ]
  },
  {
   "cell_type": "code",
   "execution_count": 35,
   "id": "682ecfa3",
   "metadata": {},
   "outputs": [
    {
     "data": {
      "text/plain": [
       "target_var\n",
       "amount    1343.0\n",
       "Name: rmse, dtype: float64"
      ]
     },
     "execution_count": 35,
     "metadata": {},
     "output_type": "execute_result"
    }
   ],
   "source": [
    "#what is the best so far?\n",
    "# get the min rmse for each variable\n",
    "\n",
    "min_rmse_amount_total = eval_df.groupby('target_var')['rmse'].min()\n",
    "\n",
    "\n",
    "# filter only the rows that match those rmse to find out \n",
    "# which models are best thus far\n",
    "min_rmse_amount_total"
   ]
  },
  {
   "cell_type": "markdown",
   "id": "15bfe5f4",
   "metadata": {},
   "source": [
    "# Holt's Linear Trend"
   ]
  },
  {
   "cell_type": "code",
   "execution_count": 36,
   "id": "1edca5bb",
   "metadata": {},
   "outputs": [],
   "source": [
    "# make the thing to iterate through the columns\n",
    "for col in train.columns:\n",
    "    model = Holt(train[col], exponential=False, damped=True)\n",
    "    model = model.fit(optimized=True)\n",
    "    yhat_values = model.predict(start=validate.index[0],\n",
    "                                end=validate.index[-1])\n",
    "    yhat_df[col] = round(yhat_values, 2)"
   ]
  },
  {
   "cell_type": "code",
   "execution_count": 37,
   "id": "b0cc9e4c",
   "metadata": {},
   "outputs": [
    {
     "data": {
      "text/html": [
       "<div>\n",
       "<style scoped>\n",
       "    .dataframe tbody tr th:only-of-type {\n",
       "        vertical-align: middle;\n",
       "    }\n",
       "\n",
       "    .dataframe tbody tr th {\n",
       "        vertical-align: top;\n",
       "    }\n",
       "\n",
       "    .dataframe thead th {\n",
       "        text-align: right;\n",
       "    }\n",
       "</style>\n",
       "<table border=\"1\" class=\"dataframe\">\n",
       "  <thead>\n",
       "    <tr style=\"text-align: right;\">\n",
       "      <th></th>\n",
       "      <th>amount</th>\n",
       "    </tr>\n",
       "    <tr>\n",
       "      <th>month_invoiced</th>\n",
       "      <th></th>\n",
       "    </tr>\n",
       "  </thead>\n",
       "  <tbody>\n",
       "    <tr>\n",
       "      <th>2016-01-31</th>\n",
       "      <td>51748.62</td>\n",
       "    </tr>\n",
       "    <tr>\n",
       "      <th>2016-02-29</th>\n",
       "      <td>51961.99</td>\n",
       "    </tr>\n",
       "    <tr>\n",
       "      <th>2016-03-31</th>\n",
       "      <td>52173.35</td>\n",
       "    </tr>\n",
       "    <tr>\n",
       "      <th>2016-04-30</th>\n",
       "      <td>52382.69</td>\n",
       "    </tr>\n",
       "    <tr>\n",
       "      <th>2016-05-31</th>\n",
       "      <td>52590.04</td>\n",
       "    </tr>\n",
       "  </tbody>\n",
       "</table>\n",
       "</div>"
      ],
      "text/plain": [
       "                  amount\n",
       "month_invoiced          \n",
       "2016-01-31      51748.62\n",
       "2016-02-29      51961.99\n",
       "2016-03-31      52173.35\n",
       "2016-04-30      52382.69\n",
       "2016-05-31      52590.04"
      ]
     },
     "execution_count": 37,
     "metadata": {},
     "output_type": "execute_result"
    }
   ],
   "source": [
    "#check out the yhat df\n",
    "yhat_df.head()"
   ]
  },
  {
   "cell_type": "code",
   "execution_count": 38,
   "id": "abe51050",
   "metadata": {},
   "outputs": [
    {
     "name": "stdout",
     "output_type": "stream",
     "text": [
      "amount -- rmse: 456\n"
     ]
    },
    {
     "data": {
      "image/png": "[encoded data removed]",
      "text/plain": [
       "<Figure size 1200x400 with 1 Axes>"
      ]
     },
     "metadata": {},
     "output_type": "display_data"
    }
   ],
   "source": [
    "# plot actuals vs. predicted values\n",
    "for col in train.columns:\n",
    "    plot_and_eval(target_var = col)"
   ]
  },
  {
   "cell_type": "code",
   "execution_count": 39,
   "id": "ee66c609",
   "metadata": {},
   "outputs": [],
   "source": [
    "# evaluate\n",
    "for col in train.columns:\n",
    "    eval_df = append_eval_df(model_type = 'holts_optimized', \n",
    "                            target_var = col)"
   ]
  },
  {
   "cell_type": "code",
   "execution_count": 40,
   "id": "c890bfcc",
   "metadata": {},
   "outputs": [
    {
     "data": {
      "text/html": [
       "<div>\n",
       "<style scoped>\n",
       "    .dataframe tbody tr th:only-of-type {\n",
       "        vertical-align: middle;\n",
       "    }\n",
       "\n",
       "    .dataframe tbody tr th {\n",
       "        vertical-align: top;\n",
       "    }\n",
       "\n",
       "    .dataframe thead th {\n",
       "        text-align: right;\n",
       "    }\n",
       "</style>\n",
       "<table border=\"1\" class=\"dataframe\">\n",
       "  <thead>\n",
       "    <tr style=\"text-align: right;\">\n",
       "      <th></th>\n",
       "      <th>model_type</th>\n",
       "      <th>target_var</th>\n",
       "      <th>rmse</th>\n",
       "    </tr>\n",
       "  </thead>\n",
       "  <tbody>\n",
       "    <tr>\n",
       "      <th>0</th>\n",
       "      <td>last_observed_value</td>\n",
       "      <td>amount</td>\n",
       "      <td>1343.0</td>\n",
       "    </tr>\n",
       "    <tr>\n",
       "      <th>0</th>\n",
       "      <td>simple_average</td>\n",
       "      <td>amount</td>\n",
       "      <td>7181.0</td>\n",
       "    </tr>\n",
       "    <tr>\n",
       "      <th>0</th>\n",
       "      <td>1Y moving avg</td>\n",
       "      <td>amount</td>\n",
       "      <td>7181.0</td>\n",
       "    </tr>\n",
       "    <tr>\n",
       "      <th>0</th>\n",
       "      <td>2_month_moving_avg</td>\n",
       "      <td>amount</td>\n",
       "      <td>3164.0</td>\n",
       "    </tr>\n",
       "    <tr>\n",
       "      <th>0</th>\n",
       "      <td>3_month_moving_avg</td>\n",
       "      <td>amount</td>\n",
       "      <td>3164.0</td>\n",
       "    </tr>\n",
       "    <tr>\n",
       "      <th>0</th>\n",
       "      <td>6_month_moving_avg</td>\n",
       "      <td>amount</td>\n",
       "      <td>3164.0</td>\n",
       "    </tr>\n",
       "    <tr>\n",
       "      <th>0</th>\n",
       "      <td>holts_optimized</td>\n",
       "      <td>amount</td>\n",
       "      <td>456.0</td>\n",
       "    </tr>\n",
       "  </tbody>\n",
       "</table>\n",
       "</div>"
      ],
      "text/plain": [
       "            model_type target_var    rmse\n",
       "0  last_observed_value     amount  1343.0\n",
       "0       simple_average     amount  7181.0\n",
       "0        1Y moving avg     amount  7181.0\n",
       "0   2_month_moving_avg     amount  3164.0\n",
       "0   3_month_moving_avg     amount  3164.0\n",
       "0   6_month_moving_avg     amount  3164.0\n",
       "0      holts_optimized     amount   456.0"
      ]
     },
     "execution_count": 40,
     "metadata": {},
     "output_type": "execute_result"
    }
   ],
   "source": [
    "# check it out\n",
    "eval_df"
   ]
  },
  {
   "cell_type": "markdown",
   "id": "60b8011d",
   "metadata": {},
   "source": [
    "# Holts Seasonal"
   ]
  },
  {
   "cell_type": "code",
   "execution_count": 41,
   "id": "49c9e5fd",
   "metadata": {},
   "outputs": [],
   "source": [
    "import itertools"
   ]
  },
  {
   "cell_type": "code",
   "execution_count": 42,
   "id": "3ca4a7c8",
   "metadata": {},
   "outputs": [],
   "source": [
    "combos = list(itertools.product(['add','mul'],[True, False]))"
   ]
  },
  {
   "cell_type": "code",
   "execution_count": 43,
   "id": "c438d6cf",
   "metadata": {},
   "outputs": [
    {
     "data": {
      "text/plain": [
       "[('add', True), ('add', False), ('mul', True), ('mul', False)]"
      ]
     },
     "execution_count": 43,
     "metadata": {},
     "output_type": "execute_result"
    }
   ],
   "source": [
    "combos"
   ]
  },
  {
   "cell_type": "code",
   "execution_count": 44,
   "id": "990c7b48",
   "metadata": {},
   "outputs": [
    {
     "name": "stderr",
     "output_type": "stream",
     "text": [
      "/usr/local/anaconda3/lib/python3.9/site-packages/statsmodels/tsa/holtwinters/model.py:915: ConvergenceWarning: Optimization failed to converge. Check mle_retvals.\n",
      "  warnings.warn(\n",
      "/usr/local/anaconda3/lib/python3.9/site-packages/statsmodels/tsa/holtwinters/model.py:915: ConvergenceWarning: Optimization failed to converge. Check mle_retvals.\n",
      "  warnings.warn(\n",
      "/usr/local/anaconda3/lib/python3.9/site-packages/statsmodels/tsa/holtwinters/model.py:915: ConvergenceWarning: Optimization failed to converge. Check mle_retvals.\n",
      "  warnings.warn(\n",
      "/usr/local/anaconda3/lib/python3.9/site-packages/statsmodels/tsa/holtwinters/model.py:915: ConvergenceWarning: Optimization failed to converge. Check mle_retvals.\n",
      "  warnings.warn(\n"
     ]
    }
   ],
   "source": [
    "hsts = {}\n",
    "for col in train.columns:\n",
    "    hsts[col] = {}\n",
    "    for i, combo in enumerate (combos):\n",
    "        hsts[col]['hst_fit_' + str(i)]= \\\n",
    "        ExponentialSmoothing(train[col],\n",
    "                             seasonal_periods=12,\n",
    "                             trend='add',\n",
    "                            seasonal = combo[0],\n",
    "                            damped=combo[1]).fit()"
   ]
  },
  {
   "cell_type": "code",
   "execution_count": 45,
   "id": "b6b36ad2",
   "metadata": {},
   "outputs": [
    {
     "data": {
      "text/plain": [
       "dict_keys(['amount'])"
      ]
     },
     "execution_count": 45,
     "metadata": {},
     "output_type": "execute_result"
    }
   ],
   "source": [
    "\n",
    "hsts.keys()"
   ]
  },
  {
   "cell_type": "code",
   "execution_count": 46,
   "id": "9102cd46",
   "metadata": {},
   "outputs": [
    {
     "data": {
      "text/plain": [
       "{'hst_fit_0': <statsmodels.tsa.holtwinters.results.HoltWintersResultsWrapper at 0x7fdf00887610>,\n",
       " 'hst_fit_1': <statsmodels.tsa.holtwinters.results.HoltWintersResultsWrapper at 0x7fdf00d4a100>,\n",
       " 'hst_fit_2': <statsmodels.tsa.holtwinters.results.HoltWintersResultsWrapper at 0x7fdf00872460>,\n",
       " 'hst_fit_3': <statsmodels.tsa.holtwinters.results.HoltWintersResultsWrapper at 0x7fdf00883490>}"
      ]
     },
     "execution_count": 46,
     "metadata": {},
     "output_type": "execute_result"
    }
   ],
   "source": [
    "hsts['amount']"
   ]
  },
  {
   "cell_type": "code",
   "execution_count": 47,
   "id": "5b6fd8d8",
   "metadata": {},
   "outputs": [],
   "source": [
    "best_score= 'placeholder'\n",
    "for model in hsts['amount']:\n",
    "    score = (hsts['amount'][model].sse / len(train)) ** .5\n",
    "    current_model = {model: score}\n",
    "    if best_score == 'placeholder':\n",
    "        best_score = current_model\n",
    "    else:\n",
    "        if list(best_score.values())[0] > list(current_model.values())[0]:\n",
    "            best_score = current_model"
   ]
  },
  {
   "cell_type": "code",
   "execution_count": 48,
   "id": "5964d508",
   "metadata": {},
   "outputs": [
    {
     "data": {
      "text/plain": [
       "2016-01-31    50664.516323\n",
       "2016-02-29    52217.240318\n",
       "2016-03-31    52551.894342\n",
       "2016-04-30    52800.573350\n",
       "2016-05-31    53159.215326\n",
       "2016-06-30    53441.182443\n",
       "2016-07-31    53897.175360\n",
       "2016-08-31    54306.491552\n",
       "2016-09-30    54712.380271\n",
       "2016-10-31    55152.621113\n",
       "2016-11-30    55220.139687\n",
       "2016-12-31    55487.760885\n",
       "2017-01-31    54644.160034\n",
       "2017-02-28    56196.884029\n",
       "2017-03-31    56531.538053\n",
       "Freq: M, dtype: float64"
      ]
     },
     "execution_count": 48,
     "metadata": {},
     "output_type": "execute_result"
    }
   ],
   "source": [
    "hsts['amount']['hst_fit_1'].forecast(validate.shape[0] + 1)"
   ]
  },
  {
   "cell_type": "code",
   "execution_count": 49,
   "id": "b5d05860",
   "metadata": {},
   "outputs": [
    {
     "data": {
      "text/html": [
       "<div>\n",
       "<style scoped>\n",
       "    .dataframe tbody tr th:only-of-type {\n",
       "        vertical-align: middle;\n",
       "    }\n",
       "\n",
       "    .dataframe tbody tr th {\n",
       "        vertical-align: top;\n",
       "    }\n",
       "\n",
       "    .dataframe thead th {\n",
       "        text-align: right;\n",
       "    }\n",
       "</style>\n",
       "<table border=\"1\" class=\"dataframe\">\n",
       "  <thead>\n",
       "    <tr style=\"text-align: right;\">\n",
       "      <th></th>\n",
       "      <th>amount</th>\n",
       "    </tr>\n",
       "    <tr>\n",
       "      <th>month_invoiced</th>\n",
       "      <th></th>\n",
       "    </tr>\n",
       "  </thead>\n",
       "  <tbody>\n",
       "    <tr>\n",
       "      <th>2016-01-31</th>\n",
       "      <td>50664.516323</td>\n",
       "    </tr>\n",
       "    <tr>\n",
       "      <th>2016-02-29</th>\n",
       "      <td>52217.240318</td>\n",
       "    </tr>\n",
       "    <tr>\n",
       "      <th>2016-03-31</th>\n",
       "      <td>52551.894342</td>\n",
       "    </tr>\n",
       "    <tr>\n",
       "      <th>2016-04-30</th>\n",
       "      <td>52800.573350</td>\n",
       "    </tr>\n",
       "    <tr>\n",
       "      <th>2016-05-31</th>\n",
       "      <td>53159.215326</td>\n",
       "    </tr>\n",
       "    <tr>\n",
       "      <th>2016-06-30</th>\n",
       "      <td>53441.182443</td>\n",
       "    </tr>\n",
       "    <tr>\n",
       "      <th>2016-07-31</th>\n",
       "      <td>53897.175360</td>\n",
       "    </tr>\n",
       "    <tr>\n",
       "      <th>2016-08-31</th>\n",
       "      <td>54306.491552</td>\n",
       "    </tr>\n",
       "    <tr>\n",
       "      <th>2016-09-30</th>\n",
       "      <td>54712.380271</td>\n",
       "    </tr>\n",
       "    <tr>\n",
       "      <th>2016-10-31</th>\n",
       "      <td>55152.621113</td>\n",
       "    </tr>\n",
       "    <tr>\n",
       "      <th>2016-11-30</th>\n",
       "      <td>55220.139687</td>\n",
       "    </tr>\n",
       "    <tr>\n",
       "      <th>2016-12-31</th>\n",
       "      <td>55487.760885</td>\n",
       "    </tr>\n",
       "    <tr>\n",
       "      <th>2017-01-31</th>\n",
       "      <td>54644.160034</td>\n",
       "    </tr>\n",
       "    <tr>\n",
       "      <th>2017-02-28</th>\n",
       "      <td>56196.884029</td>\n",
       "    </tr>\n",
       "  </tbody>\n",
       "</table>\n",
       "</div>"
      ],
      "text/plain": [
       "                      amount\n",
       "month_invoiced              \n",
       "2016-01-31      50664.516323\n",
       "2016-02-29      52217.240318\n",
       "2016-03-31      52551.894342\n",
       "2016-04-30      52800.573350\n",
       "2016-05-31      53159.215326\n",
       "2016-06-30      53441.182443\n",
       "2016-07-31      53897.175360\n",
       "2016-08-31      54306.491552\n",
       "2016-09-30      54712.380271\n",
       "2016-10-31      55152.621113\n",
       "2016-11-30      55220.139687\n",
       "2016-12-31      55487.760885\n",
       "2017-01-31      54644.160034\n",
       "2017-02-28      56196.884029"
      ]
     },
     "execution_count": 49,
     "metadata": {},
     "output_type": "execute_result"
    }
   ],
   "source": [
    "yhat_df = pd.DataFrame({'amount': hsts['amount']['hst_fit_1'].forecast(validate.shape[0] + 1),\n",
    "                           },\n",
    "                          index=validate.index)\n",
    "yhat_df"
   ]
  },
  {
   "cell_type": "code",
   "execution_count": 50,
   "id": "5ffc5458",
   "metadata": {},
   "outputs": [
    {
     "name": "stdout",
     "output_type": "stream",
     "text": [
      "amount -- rmse: 1502\n"
     ]
    },
    {
     "data": {
      "image/png": "[encoded data removed]",
      "text/plain": [
       "<Figure size 1200x400 with 1 Axes>"
      ]
     },
     "metadata": {},
     "output_type": "display_data"
    }
   ],
   "source": [
    "for col in train.columns:\n",
    "    plot_and_eval(col)"
   ]
  },
  {
   "cell_type": "code",
   "execution_count": 51,
   "id": "ca8b2a61",
   "metadata": {},
   "outputs": [],
   "source": [
    "for col in train.columns:\n",
    "    eval_df = append_eval_df(model_type = 'holts_seasonal', \n",
    "                            target_var = col)"
   ]
  },
  {
   "cell_type": "code",
   "execution_count": 52,
   "id": "bcb89511",
   "metadata": {},
   "outputs": [
    {
     "data": {
      "text/html": [
       "<div>\n",
       "<style scoped>\n",
       "    .dataframe tbody tr th:only-of-type {\n",
       "        vertical-align: middle;\n",
       "    }\n",
       "\n",
       "    .dataframe tbody tr th {\n",
       "        vertical-align: top;\n",
       "    }\n",
       "\n",
       "    .dataframe thead th {\n",
       "        text-align: right;\n",
       "    }\n",
       "</style>\n",
       "<table border=\"1\" class=\"dataframe\">\n",
       "  <thead>\n",
       "    <tr style=\"text-align: right;\">\n",
       "      <th></th>\n",
       "      <th>model_type</th>\n",
       "      <th>target_var</th>\n",
       "      <th>rmse</th>\n",
       "    </tr>\n",
       "  </thead>\n",
       "  <tbody>\n",
       "    <tr>\n",
       "      <th>0</th>\n",
       "      <td>holts_optimized</td>\n",
       "      <td>amount</td>\n",
       "      <td>456.0</td>\n",
       "    </tr>\n",
       "    <tr>\n",
       "      <th>0</th>\n",
       "      <td>last_observed_value</td>\n",
       "      <td>amount</td>\n",
       "      <td>1343.0</td>\n",
       "    </tr>\n",
       "    <tr>\n",
       "      <th>0</th>\n",
       "      <td>holts_seasonal</td>\n",
       "      <td>amount</td>\n",
       "      <td>1502.0</td>\n",
       "    </tr>\n",
       "    <tr>\n",
       "      <th>0</th>\n",
       "      <td>2_month_moving_avg</td>\n",
       "      <td>amount</td>\n",
       "      <td>3164.0</td>\n",
       "    </tr>\n",
       "    <tr>\n",
       "      <th>0</th>\n",
       "      <td>3_month_moving_avg</td>\n",
       "      <td>amount</td>\n",
       "      <td>3164.0</td>\n",
       "    </tr>\n",
       "    <tr>\n",
       "      <th>0</th>\n",
       "      <td>6_month_moving_avg</td>\n",
       "      <td>amount</td>\n",
       "      <td>3164.0</td>\n",
       "    </tr>\n",
       "    <tr>\n",
       "      <th>0</th>\n",
       "      <td>simple_average</td>\n",
       "      <td>amount</td>\n",
       "      <td>7181.0</td>\n",
       "    </tr>\n",
       "    <tr>\n",
       "      <th>0</th>\n",
       "      <td>1Y moving avg</td>\n",
       "      <td>amount</td>\n",
       "      <td>7181.0</td>\n",
       "    </tr>\n",
       "  </tbody>\n",
       "</table>\n",
       "</div>"
      ],
      "text/plain": [
       "            model_type target_var    rmse\n",
       "0      holts_optimized     amount   456.0\n",
       "0  last_observed_value     amount  1343.0\n",
       "0       holts_seasonal     amount  1502.0\n",
       "0   2_month_moving_avg     amount  3164.0\n",
       "0   3_month_moving_avg     amount  3164.0\n",
       "0   6_month_moving_avg     amount  3164.0\n",
       "0       simple_average     amount  7181.0\n",
       "0        1Y moving avg     amount  7181.0"
      ]
     },
     "execution_count": 52,
     "metadata": {},
     "output_type": "execute_result"
    }
   ],
   "source": [
    "eval_df.sort_values(by='rmse')"
   ]
  },
  {
   "cell_type": "code",
   "execution_count": 53,
   "id": "7a52a834",
   "metadata": {},
   "outputs": [
    {
     "data": {
      "image/png": "[encoded data removed]",
      "text/plain": [
       "<Figure size 1200x600 with 1 Axes>"
      ]
     },
     "metadata": {},
     "output_type": "display_data"
    }
   ],
   "source": [
    "for col in train.columns:\n",
    "    x = eval_df[eval_df.target_var == col]['model_type']\n",
    "    y = eval_df[eval_df.target_var == col]['rmse']\n",
    "    plt.figure(figsize=(12, 6))\n",
    "    sns.barplot(x=x, y=y)\n",
    "    plt.title(col)\n",
    "    plt.ylabel('RMSE')\n",
    "    plt.xticks(rotation=90)\n",
    "    plt.show()"
   ]
  },
  {
   "cell_type": "markdown",
   "id": "04455075",
   "metadata": {},
   "source": [
    "# Evaluate on test"
   ]
  },
  {
   "cell_type": "code",
   "execution_count": 54,
   "id": "e390e254",
   "metadata": {},
   "outputs": [
    {
     "data": {
      "text/plain": [
       "((24, 1), (14, 1), (10, 1))"
      ]
     },
     "execution_count": 54,
     "metadata": {},
     "output_type": "execute_result"
    }
   ],
   "source": [
    "train = df_resampled[:train_size]\n",
    "validate = df_resampled[train_size:validate_end_index]\n",
    "test = df_resampled[validate_end_index:]\n",
    "train.shape, validate.shape, test.shape"
   ]
  },
  {
   "cell_type": "code",
   "execution_count": 64,
   "id": "37a43023",
   "metadata": {},
   "outputs": [],
   "source": [
    "yhat_values = model.predict(start=test.index[0],\n",
    "                                end=test.index[-1])\n",
    "\n"
   ]
  },
  {
   "cell_type": "code",
   "execution_count": 81,
   "id": "aacc4220",
   "metadata": {},
   "outputs": [
    {
     "ename": "TypeError",
     "evalue": "Addition/subtraction of integers and integer-arrays with Timestamp is no longer supported.  Instead of adding/subtracting `n`, use `n * obj.freq`",
     "output_type": "error",
     "traceback": [
      "\u001b[0;31m---------------------------------------------------------------------------\u001b[0m",
      "\u001b[0;31mTypeError\u001b[0m                                 Traceback (most recent call last)",
      "\u001b[0;32m/var/folders/lp/pxhhvyv90vx8hwbv8yjldhj80000gn/T/ipykernel_15561/3163547694.py\u001b[0m in \u001b[0;36m<module>\u001b[0;34m\u001b[0m\n\u001b[0;32m----> 1\u001b[0;31m \u001b[0mtest\u001b[0m\u001b[0;34m.\u001b[0m\u001b[0mindex\u001b[0m\u001b[0;34m[\u001b[0m\u001b[0;34m-\u001b[0m\u001b[0;36m1\u001b[0m\u001b[0;34m]\u001b[0m \u001b[0;34m+\u001b[0m \u001b[0;36m12\u001b[0m\u001b[0;34m\u001b[0m\u001b[0;34m\u001b[0m\u001b[0m\n\u001b[0m",
      "\u001b[0;32m/usr/local/anaconda3/lib/python3.9/site-packages/pandas/_libs/tslibs/timestamps.pyx\u001b[0m in \u001b[0;36mpandas._libs.tslibs.timestamps._Timestamp.__add__\u001b[0;34m()\u001b[0m\n",
      "\u001b[0;31mTypeError\u001b[0m: Addition/subtraction of integers and integer-arrays with Timestamp is no longer supported.  Instead of adding/subtracting `n`, use `n * obj.freq`"
     ]
    }
   ],
   "source": [
    "test.index[-1] + 12"
   ]
  },
  {
   "cell_type": "code",
   "execution_count": 68,
   "id": "1b71960e",
   "metadata": {},
   "outputs": [],
   "source": [
    "yhat_df = pd.DataFrame(index=test.index, columns=test.columns)"
   ]
  },
  {
   "cell_type": "code",
   "execution_count": 65,
   "id": "667ea1e8",
   "metadata": {},
   "outputs": [
    {
     "data": {
      "text/plain": [
       "2017-03-31    54558.269215\n",
       "2017-04-30    54744.955176\n",
       "2017-05-31    54929.867623\n",
       "2017-06-30    55113.023404\n",
       "2017-07-31    55294.439209\n",
       "2017-08-31    55474.131566\n",
       "2017-09-30    55652.116848\n",
       "2017-10-31    55828.411273\n",
       "2017-11-30    56003.030903\n",
       "2017-12-31    56175.991650\n",
       "Freq: M, dtype: float64"
      ]
     },
     "execution_count": 65,
     "metadata": {},
     "output_type": "execute_result"
    }
   ],
   "source": [
    "yhat_values"
   ]
  },
  {
   "cell_type": "code",
   "execution_count": 69,
   "id": "eb88570d",
   "metadata": {
    "scrolled": true
   },
   "outputs": [
    {
     "data": {
      "text/html": [
       "<div>\n",
       "<style scoped>\n",
       "    .dataframe tbody tr th:only-of-type {\n",
       "        vertical-align: middle;\n",
       "    }\n",
       "\n",
       "    .dataframe tbody tr th {\n",
       "        vertical-align: top;\n",
       "    }\n",
       "\n",
       "    .dataframe thead th {\n",
       "        text-align: right;\n",
       "    }\n",
       "</style>\n",
       "<table border=\"1\" class=\"dataframe\">\n",
       "  <thead>\n",
       "    <tr style=\"text-align: right;\">\n",
       "      <th></th>\n",
       "      <th>amount</th>\n",
       "    </tr>\n",
       "    <tr>\n",
       "      <th>month_invoiced</th>\n",
       "      <th></th>\n",
       "    </tr>\n",
       "  </thead>\n",
       "  <tbody>\n",
       "    <tr>\n",
       "      <th>2017-03-31</th>\n",
       "      <td>54558.269215</td>\n",
       "    </tr>\n",
       "    <tr>\n",
       "      <th>2017-04-30</th>\n",
       "      <td>54744.955176</td>\n",
       "    </tr>\n",
       "    <tr>\n",
       "      <th>2017-05-31</th>\n",
       "      <td>54929.867623</td>\n",
       "    </tr>\n",
       "    <tr>\n",
       "      <th>2017-06-30</th>\n",
       "      <td>55113.023404</td>\n",
       "    </tr>\n",
       "    <tr>\n",
       "      <th>2017-07-31</th>\n",
       "      <td>55294.439209</td>\n",
       "    </tr>\n",
       "    <tr>\n",
       "      <th>2017-08-31</th>\n",
       "      <td>55474.131566</td>\n",
       "    </tr>\n",
       "    <tr>\n",
       "      <th>2017-09-30</th>\n",
       "      <td>55652.116848</td>\n",
       "    </tr>\n",
       "    <tr>\n",
       "      <th>2017-10-31</th>\n",
       "      <td>55828.411273</td>\n",
       "    </tr>\n",
       "    <tr>\n",
       "      <th>2017-11-30</th>\n",
       "      <td>56003.030903</td>\n",
       "    </tr>\n",
       "    <tr>\n",
       "      <th>2017-12-31</th>\n",
       "      <td>56175.991650</td>\n",
       "    </tr>\n",
       "  </tbody>\n",
       "</table>\n",
       "</div>"
      ],
      "text/plain": [
       "                      amount\n",
       "month_invoiced              \n",
       "2017-03-31      54558.269215\n",
       "2017-04-30      54744.955176\n",
       "2017-05-31      54929.867623\n",
       "2017-06-30      55113.023404\n",
       "2017-07-31      55294.439209\n",
       "2017-08-31      55474.131566\n",
       "2017-09-30      55652.116848\n",
       "2017-10-31      55828.411273\n",
       "2017-11-30      56003.030903\n",
       "2017-12-31      56175.991650"
      ]
     },
     "execution_count": 69,
     "metadata": {},
     "output_type": "execute_result"
    }
   ],
   "source": [
    "yhat_df.amount = yhat_values\n",
    "yhat_df"
   ]
  },
  {
   "cell_type": "code",
   "execution_count": 75,
   "id": "7b36c9c6",
   "metadata": {},
   "outputs": [
    {
     "ename": "AttributeError",
     "evalue": "'Series' object has no attribute 'forecast'",
     "output_type": "error",
     "traceback": [
      "\u001b[0;31m---------------------------------------------------------------------------\u001b[0m",
      "\u001b[0;31mAttributeError\u001b[0m                            Traceback (most recent call last)",
      "\u001b[0;32m/var/folders/lp/pxhhvyv90vx8hwbv8yjldhj80000gn/T/ipykernel_15561/3760539863.py\u001b[0m in \u001b[0;36m<module>\u001b[0;34m\u001b[0m\n\u001b[0;32m----> 1\u001b[0;31m forecast = pd.DataFrame({'amount': yhat_df['amount'].forecast(test.shape[0] + 1 + 12)\n\u001b[0m\u001b[1;32m      2\u001b[0m                         })\n\u001b[1;32m      3\u001b[0m \u001b[0;31m# how does forecast look\u001b[0m\u001b[0;34m\u001b[0m\u001b[0;34m\u001b[0m\u001b[0m\n\u001b[1;32m      4\u001b[0m \u001b[0mforecast\u001b[0m\u001b[0;34m\u001b[0m\u001b[0;34m\u001b[0m\u001b[0m\n",
      "\u001b[0;32m/usr/local/anaconda3/lib/python3.9/site-packages/pandas/core/generic.py\u001b[0m in \u001b[0;36m__getattr__\u001b[0;34m(self, name)\u001b[0m\n\u001b[1;32m   5573\u001b[0m         ):\n\u001b[1;32m   5574\u001b[0m             \u001b[0;32mreturn\u001b[0m \u001b[0mself\u001b[0m\u001b[0;34m[\u001b[0m\u001b[0mname\u001b[0m\u001b[0;34m]\u001b[0m\u001b[0;34m\u001b[0m\u001b[0;34m\u001b[0m\u001b[0m\n\u001b[0;32m-> 5575\u001b[0;31m         \u001b[0;32mreturn\u001b[0m \u001b[0mobject\u001b[0m\u001b[0;34m.\u001b[0m\u001b[0m__getattribute__\u001b[0m\u001b[0;34m(\u001b[0m\u001b[0mself\u001b[0m\u001b[0;34m,\u001b[0m \u001b[0mname\u001b[0m\u001b[0;34m)\u001b[0m\u001b[0;34m\u001b[0m\u001b[0;34m\u001b[0m\u001b[0m\n\u001b[0m\u001b[1;32m   5576\u001b[0m \u001b[0;34m\u001b[0m\u001b[0m\n\u001b[1;32m   5577\u001b[0m     \u001b[0;32mdef\u001b[0m \u001b[0m__setattr__\u001b[0m\u001b[0;34m(\u001b[0m\u001b[0mself\u001b[0m\u001b[0;34m,\u001b[0m \u001b[0mname\u001b[0m\u001b[0;34m:\u001b[0m \u001b[0mstr\u001b[0m\u001b[0;34m,\u001b[0m \u001b[0mvalue\u001b[0m\u001b[0;34m)\u001b[0m \u001b[0;34m->\u001b[0m \u001b[0;32mNone\u001b[0m\u001b[0;34m:\u001b[0m\u001b[0;34m\u001b[0m\u001b[0;34m\u001b[0m\u001b[0m\n",
      "\u001b[0;31mAttributeError\u001b[0m: 'Series' object has no attribute 'forecast'"
     ]
    }
   ],
   "source": [
    "forecast = pd.DataFrame({'amount': yhat_df['amount'].forecast(test.shape[0] + 1 + 12)\n",
    "                        })\n",
    "\n",
    "forecast"
   ]
  },
  {
   "cell_type": "code",
   "execution_count": 70,
   "id": "2a6680ca",
   "metadata": {},
   "outputs": [],
   "source": [
    "def final_plot(target_var):\n",
    "    plt.figure(figsize=(12,4))\n",
    "    plt.plot(train[target_var], color='#377eb8', label='Train')\n",
    "    plt.plot(validate[target_var], color='#ff7f00', label='Validate')\n",
    "    plt.plot(test[target_var], color='#4daf4a', label='Test')\n",
    "    plt.plot(yhat_df[target_var], color='#a65628', label='yhat')\n",
    "    plt.plot(forecast[target_var], color='#984ea3', label='Forecast')\n",
    "    plt.title(target_var)\n",
    "    plt.legend()\n",
    "    plt.show()"
   ]
  },
  {
   "cell_type": "code",
   "execution_count": 71,
   "id": "b757419f",
   "metadata": {},
   "outputs": [
    {
     "ename": "NameError",
     "evalue": "name 'forecast' is not defined",
     "output_type": "error",
     "traceback": [
      "\u001b[0;31m---------------------------------------------------------------------------\u001b[0m",
      "\u001b[0;31mNameError\u001b[0m                                 Traceback (most recent call last)",
      "\u001b[0;32m/var/folders/lp/pxhhvyv90vx8hwbv8yjldhj80000gn/T/ipykernel_15561/1580894495.py\u001b[0m in \u001b[0;36m<module>\u001b[0;34m\u001b[0m\n\u001b[1;32m      1\u001b[0m \u001b[0;32mfor\u001b[0m \u001b[0mcol\u001b[0m \u001b[0;32min\u001b[0m \u001b[0mtrain\u001b[0m\u001b[0;34m.\u001b[0m\u001b[0mcolumns\u001b[0m\u001b[0;34m:\u001b[0m\u001b[0;34m\u001b[0m\u001b[0;34m\u001b[0m\u001b[0m\n\u001b[0;32m----> 2\u001b[0;31m     \u001b[0mfinal_plot\u001b[0m\u001b[0;34m(\u001b[0m\u001b[0mcol\u001b[0m\u001b[0;34m)\u001b[0m\u001b[0;34m\u001b[0m\u001b[0;34m\u001b[0m\u001b[0m\n\u001b[0m",
      "\u001b[0;32m/var/folders/lp/pxhhvyv90vx8hwbv8yjldhj80000gn/T/ipykernel_15561/4069084382.py\u001b[0m in \u001b[0;36mfinal_plot\u001b[0;34m(target_var)\u001b[0m\n\u001b[1;32m      5\u001b[0m     \u001b[0mplt\u001b[0m\u001b[0;34m.\u001b[0m\u001b[0mplot\u001b[0m\u001b[0;34m(\u001b[0m\u001b[0mtest\u001b[0m\u001b[0;34m[\u001b[0m\u001b[0mtarget_var\u001b[0m\u001b[0;34m]\u001b[0m\u001b[0;34m,\u001b[0m \u001b[0mcolor\u001b[0m\u001b[0;34m=\u001b[0m\u001b[0;34m'#4daf4a'\u001b[0m\u001b[0;34m,\u001b[0m \u001b[0mlabel\u001b[0m\u001b[0;34m=\u001b[0m\u001b[0;34m'Test'\u001b[0m\u001b[0;34m)\u001b[0m\u001b[0;34m\u001b[0m\u001b[0;34m\u001b[0m\u001b[0m\n\u001b[1;32m      6\u001b[0m     \u001b[0mplt\u001b[0m\u001b[0;34m.\u001b[0m\u001b[0mplot\u001b[0m\u001b[0;34m(\u001b[0m\u001b[0myhat_df\u001b[0m\u001b[0;34m[\u001b[0m\u001b[0mtarget_var\u001b[0m\u001b[0;34m]\u001b[0m\u001b[0;34m,\u001b[0m \u001b[0mcolor\u001b[0m\u001b[0;34m=\u001b[0m\u001b[0;34m'#a65628'\u001b[0m\u001b[0;34m,\u001b[0m \u001b[0mlabel\u001b[0m\u001b[0;34m=\u001b[0m\u001b[0;34m'yhat'\u001b[0m\u001b[0;34m)\u001b[0m\u001b[0;34m\u001b[0m\u001b[0;34m\u001b[0m\u001b[0m\n\u001b[0;32m----> 7\u001b[0;31m     \u001b[0mplt\u001b[0m\u001b[0;34m.\u001b[0m\u001b[0mplot\u001b[0m\u001b[0;34m(\u001b[0m\u001b[0mforecast\u001b[0m\u001b[0;34m[\u001b[0m\u001b[0mtarget_var\u001b[0m\u001b[0;34m]\u001b[0m\u001b[0;34m,\u001b[0m \u001b[0mcolor\u001b[0m\u001b[0;34m=\u001b[0m\u001b[0;34m'#984ea3'\u001b[0m\u001b[0;34m,\u001b[0m \u001b[0mlabel\u001b[0m\u001b[0;34m=\u001b[0m\u001b[0;34m'Forecast'\u001b[0m\u001b[0;34m)\u001b[0m\u001b[0;34m\u001b[0m\u001b[0;34m\u001b[0m\u001b[0m\n\u001b[0m\u001b[1;32m      8\u001b[0m     \u001b[0mplt\u001b[0m\u001b[0;34m.\u001b[0m\u001b[0mtitle\u001b[0m\u001b[0;34m(\u001b[0m\u001b[0mtarget_var\u001b[0m\u001b[0;34m)\u001b[0m\u001b[0;34m\u001b[0m\u001b[0;34m\u001b[0m\u001b[0m\n\u001b[1;32m      9\u001b[0m     \u001b[0mplt\u001b[0m\u001b[0;34m.\u001b[0m\u001b[0mlegend\u001b[0m\u001b[0;34m(\u001b[0m\u001b[0;34m)\u001b[0m\u001b[0;34m\u001b[0m\u001b[0;34m\u001b[0m\u001b[0m\n",
      "\u001b[0;31mNameError\u001b[0m: name 'forecast' is not defined"
     ]
    },
    {
     "data": {
      "image/png": "[encoded data removed]",
      "text/plain": [
       "<Figure size 1200x400 with 1 Axes>"
      ]
     },
     "metadata": {},
     "output_type": "display_data"
    }
   ],
   "source": [
    "for col in train.columns:\n",
    "    final_plot(col)"
   ]
  },
  {
   "cell_type": "code",
   "execution_count": null,
   "id": "0e3f3168",
   "metadata": {},
   "outputs": [],
   "source": []
  }
 ],
 "metadata": {
  "kernelspec": {
   "display_name": "Python 3 (ipykernel)",
   "language": "python",
   "name": "python3"
  },
  "language_info": {
   "codemirror_mode": {
    "name": "ipython",
    "version": 3
   },
   "file_extension": ".py",
   "mimetype": "text/x-python",
   "name": "python",
   "nbconvert_exporter": "python",
   "pygments_lexer": "ipython3",
   "version": "3.9.13"
  }
 },
 "nbformat": 4,
 "nbformat_minor": 5
}
