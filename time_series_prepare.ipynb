{
 "cells": [
  {
   "cell_type": "code",
   "execution_count": 1,
   "id": "efeb725b",
   "metadata": {},
   "outputs": [],
   "source": [
    "import pandas as pd\n",
    "import requests\n",
    "\n",
    "import matplotlib.pyplot as plt\n",
    "import seaborn as sns\n",
    "\n",
    "import os\n",
    "import acquire as a\n",
    "import prepare as p"
   ]
  },
  {
   "cell_type": "markdown",
   "id": "24971ffc",
   "metadata": {},
   "source": [
    "# 1\n",
    "Convert date column to datetime format.\n"
   ]
  },
  {
   "cell_type": "markdown",
   "id": "f3e0a6fd",
   "metadata": {},
   "source": [
    "#load my csv\n",
    "df = pd.read_csv('ts_superstore.csv', index_col=0)\n",
    "df.head()"
   ]
  },
  {
   "cell_type": "markdown",
   "id": "2137e430",
   "metadata": {},
   "source": [
    "#format sale date\n",
    "df.sale_date = df.sale_date.str.replace('00:00:00 GMT','')"
   ]
  },
  {
   "cell_type": "markdown",
   "id": "4d71501d",
   "metadata": {},
   "source": [
    "#remove wihite space\n",
    "df.sale_date = df.sale_date.str.strip()"
   ]
  },
  {
   "cell_type": "markdown",
   "id": "48cc23b0",
   "metadata": {},
   "source": [
    "#change to date and time\n",
    "df.sale_date = pd.to_datetime(df.sale_date, format='%a, %d %b %Y')"
   ]
  },
  {
   "cell_type": "markdown",
   "id": "194a8dee",
   "metadata": {},
   "source": [
    "#check it out\n",
    "df.sale_date"
   ]
  },
  {
   "cell_type": "markdown",
   "id": "b39e5ba1",
   "metadata": {},
   "source": [
    "# 2\n",
    "Plot the distribution of sale_amount and item_price.\n"
   ]
  },
  {
   "cell_type": "markdown",
   "id": "c0480093",
   "metadata": {},
   "source": [
    "#distribution of sale_amount\n",
    "df.sale_amount.hist();"
   ]
  },
  {
   "cell_type": "markdown",
   "id": "e2ea9be2",
   "metadata": {},
   "source": [
    "#distribution of item_price\n",
    "df.item_price.hist();"
   ]
  },
  {
   "cell_type": "markdown",
   "id": "de8d9e71",
   "metadata": {},
   "source": [
    "# 3\n",
    "Set the index to be the datetime variable.\n"
   ]
  },
  {
   "cell_type": "markdown",
   "id": "ba7be9be",
   "metadata": {},
   "source": [
    "#set index as sale_date\n",
    "df = df.set_index('sale_date')"
   ]
  },
  {
   "cell_type": "markdown",
   "id": "5fdec41b",
   "metadata": {},
   "source": [
    "#sort index values\n",
    "df = df.sort_index()"
   ]
  },
  {
   "cell_type": "markdown",
   "id": "f955c5b0",
   "metadata": {},
   "source": [
    "#check it out\n",
    "df.head()"
   ]
  },
  {
   "cell_type": "markdown",
   "id": "3a414eb8",
   "metadata": {},
   "source": [
    "# 4\n",
    "Add a 'month' and 'day of week' column to your dataframe.\n"
   ]
  },
  {
   "cell_type": "markdown",
   "id": "dcb78167",
   "metadata": {},
   "source": [
    "#add day of week column\n",
    "df['day_of_week'] = df.index.day_name()\n",
    "df.head()"
   ]
  },
  {
   "cell_type": "markdown",
   "id": "b4af1009",
   "metadata": {},
   "source": [
    "df['month'] = df.index.month_name()\n",
    "df.head()"
   ]
  },
  {
   "cell_type": "markdown",
   "id": "dd931a41",
   "metadata": {},
   "source": [
    "# 5\n",
    "Add a column to your dataframe, sales_total, which is a derived from sale_amount (total items) and item_price.\n"
   ]
  },
  {
   "cell_type": "markdown",
   "id": "a420a534",
   "metadata": {},
   "source": [
    "df['sales_total']= (df.sale_amount * df.item_price)\n",
    "df.head()"
   ]
  },
  {
   "cell_type": "markdown",
   "id": "9cb257ac",
   "metadata": {},
   "source": [
    "# 6\n",
    "Make sure all the work that you have done above is reproducible. That is, you should put the code above into separate functions and be able to re-run the functions and get the same results."
   ]
  },
  {
   "cell_type": "code",
   "execution_count": 3,
   "id": "d2eeee68",
   "metadata": {},
   "outputs": [
    {
     "data": {
      "text/html": [
       "<div>\n",
       "<style scoped>\n",
       "    .dataframe tbody tr th:only-of-type {\n",
       "        vertical-align: middle;\n",
       "    }\n",
       "\n",
       "    .dataframe tbody tr th {\n",
       "        vertical-align: top;\n",
       "    }\n",
       "\n",
       "    .dataframe thead th {\n",
       "        text-align: right;\n",
       "    }\n",
       "</style>\n",
       "<table border=\"1\" class=\"dataframe\">\n",
       "  <thead>\n",
       "    <tr style=\"text-align: right;\">\n",
       "      <th></th>\n",
       "      <th>item</th>\n",
       "      <th>sale_amount</th>\n",
       "      <th>sale_id</th>\n",
       "      <th>store</th>\n",
       "      <th>item_brand</th>\n",
       "      <th>item_id</th>\n",
       "      <th>item_name</th>\n",
       "      <th>item_price</th>\n",
       "      <th>item_upc12</th>\n",
       "      <th>item_upc14</th>\n",
       "      <th>store_address</th>\n",
       "      <th>store_city</th>\n",
       "      <th>store_id</th>\n",
       "      <th>store_state</th>\n",
       "      <th>store_zipcode</th>\n",
       "      <th>day_of_week</th>\n",
       "      <th>month</th>\n",
       "      <th>sales_total</th>\n",
       "    </tr>\n",
       "    <tr>\n",
       "      <th>sale_date</th>\n",
       "      <th></th>\n",
       "      <th></th>\n",
       "      <th></th>\n",
       "      <th></th>\n",
       "      <th></th>\n",
       "      <th></th>\n",
       "      <th></th>\n",
       "      <th></th>\n",
       "      <th></th>\n",
       "      <th></th>\n",
       "      <th></th>\n",
       "      <th></th>\n",
       "      <th></th>\n",
       "      <th></th>\n",
       "      <th></th>\n",
       "      <th></th>\n",
       "      <th></th>\n",
       "      <th></th>\n",
       "    </tr>\n",
       "  </thead>\n",
       "  <tbody>\n",
       "    <tr>\n",
       "      <th>2013-01-01</th>\n",
       "      <td>1</td>\n",
       "      <td>13.0</td>\n",
       "      <td>1</td>\n",
       "      <td>1</td>\n",
       "      <td>Riceland</td>\n",
       "      <td>1</td>\n",
       "      <td>Riceland American Jazmine Rice</td>\n",
       "      <td>0.84</td>\n",
       "      <td>35200264013</td>\n",
       "      <td>35200264013</td>\n",
       "      <td>12125 Alamo Ranch Pkwy</td>\n",
       "      <td>San Antonio</td>\n",
       "      <td>1</td>\n",
       "      <td>TX</td>\n",
       "      <td>78253</td>\n",
       "      <td>Tuesday</td>\n",
       "      <td>January</td>\n",
       "      <td>10.92</td>\n",
       "    </tr>\n",
       "    <tr>\n",
       "      <th>2013-01-01</th>\n",
       "      <td>17</td>\n",
       "      <td>26.0</td>\n",
       "      <td>295813</td>\n",
       "      <td>3</td>\n",
       "      <td>Ducal</td>\n",
       "      <td>17</td>\n",
       "      <td>Ducal Refried Red Beans</td>\n",
       "      <td>1.16</td>\n",
       "      <td>88313590791</td>\n",
       "      <td>88313590791</td>\n",
       "      <td>2118 Fredericksburg Rdj</td>\n",
       "      <td>San Antonio</td>\n",
       "      <td>3</td>\n",
       "      <td>TX</td>\n",
       "      <td>78201</td>\n",
       "      <td>Tuesday</td>\n",
       "      <td>January</td>\n",
       "      <td>30.16</td>\n",
       "    </tr>\n",
       "    <tr>\n",
       "      <th>2013-01-01</th>\n",
       "      <td>7</td>\n",
       "      <td>32.0</td>\n",
       "      <td>125995</td>\n",
       "      <td>10</td>\n",
       "      <td>Twinings Of London</td>\n",
       "      <td>7</td>\n",
       "      <td>Twinings Of London Classics Lady Grey Tea - 20 Ct</td>\n",
       "      <td>9.64</td>\n",
       "      <td>70177154004</td>\n",
       "      <td>70177154004</td>\n",
       "      <td>8503 NW Military Hwy</td>\n",
       "      <td>San Antonio</td>\n",
       "      <td>10</td>\n",
       "      <td>TX</td>\n",
       "      <td>78231</td>\n",
       "      <td>Tuesday</td>\n",
       "      <td>January</td>\n",
       "      <td>308.48</td>\n",
       "    </tr>\n",
       "    <tr>\n",
       "      <th>2013-01-01</th>\n",
       "      <td>18</td>\n",
       "      <td>45.0</td>\n",
       "      <td>314073</td>\n",
       "      <td>3</td>\n",
       "      <td>Scotch</td>\n",
       "      <td>18</td>\n",
       "      <td>Scotch Removable Clear Mounting Squares - 35 Ct</td>\n",
       "      <td>4.39</td>\n",
       "      <td>21200725340</td>\n",
       "      <td>21200725340</td>\n",
       "      <td>2118 Fredericksburg Rdj</td>\n",
       "      <td>San Antonio</td>\n",
       "      <td>3</td>\n",
       "      <td>TX</td>\n",
       "      <td>78201</td>\n",
       "      <td>Tuesday</td>\n",
       "      <td>January</td>\n",
       "      <td>197.55</td>\n",
       "    </tr>\n",
       "    <tr>\n",
       "      <th>2013-01-01</th>\n",
       "      <td>19</td>\n",
       "      <td>34.0</td>\n",
       "      <td>332333</td>\n",
       "      <td>3</td>\n",
       "      <td>Careone</td>\n",
       "      <td>19</td>\n",
       "      <td>Careone Family Comb Set - 8 Ct</td>\n",
       "      <td>0.74</td>\n",
       "      <td>41520035646</td>\n",
       "      <td>41520035646</td>\n",
       "      <td>2118 Fredericksburg Rdj</td>\n",
       "      <td>San Antonio</td>\n",
       "      <td>3</td>\n",
       "      <td>TX</td>\n",
       "      <td>78201</td>\n",
       "      <td>Tuesday</td>\n",
       "      <td>January</td>\n",
       "      <td>25.16</td>\n",
       "    </tr>\n",
       "  </tbody>\n",
       "</table>\n",
       "</div>"
      ],
      "text/plain": [
       "            item  sale_amount  sale_id  store          item_brand  item_id  \\\n",
       "sale_date                                                                    \n",
       "2013-01-01     1         13.0        1      1            Riceland        1   \n",
       "2013-01-01    17         26.0   295813      3               Ducal       17   \n",
       "2013-01-01     7         32.0   125995     10  Twinings Of London        7   \n",
       "2013-01-01    18         45.0   314073      3              Scotch       18   \n",
       "2013-01-01    19         34.0   332333      3             Careone       19   \n",
       "\n",
       "                                                    item_name  item_price  \\\n",
       "sale_date                                                                   \n",
       "2013-01-01                     Riceland American Jazmine Rice        0.84   \n",
       "2013-01-01                            Ducal Refried Red Beans        1.16   \n",
       "2013-01-01  Twinings Of London Classics Lady Grey Tea - 20 Ct        9.64   \n",
       "2013-01-01    Scotch Removable Clear Mounting Squares - 35 Ct        4.39   \n",
       "2013-01-01                     Careone Family Comb Set - 8 Ct        0.74   \n",
       "\n",
       "             item_upc12   item_upc14            store_address   store_city  \\\n",
       "sale_date                                                                    \n",
       "2013-01-01  35200264013  35200264013   12125 Alamo Ranch Pkwy  San Antonio   \n",
       "2013-01-01  88313590791  88313590791  2118 Fredericksburg Rdj  San Antonio   \n",
       "2013-01-01  70177154004  70177154004     8503 NW Military Hwy  San Antonio   \n",
       "2013-01-01  21200725340  21200725340  2118 Fredericksburg Rdj  San Antonio   \n",
       "2013-01-01  41520035646  41520035646  2118 Fredericksburg Rdj  San Antonio   \n",
       "\n",
       "            store_id store_state  store_zipcode day_of_week    month  \\\n",
       "sale_date                                                              \n",
       "2013-01-01         1          TX          78253     Tuesday  January   \n",
       "2013-01-01         3          TX          78201     Tuesday  January   \n",
       "2013-01-01        10          TX          78231     Tuesday  January   \n",
       "2013-01-01         3          TX          78201     Tuesday  January   \n",
       "2013-01-01         3          TX          78201     Tuesday  January   \n",
       "\n",
       "            sales_total  \n",
       "sale_date                \n",
       "2013-01-01        10.92  \n",
       "2013-01-01        30.16  \n",
       "2013-01-01       308.48  \n",
       "2013-01-01       197.55  \n",
       "2013-01-01        25.16  "
      ]
     },
     "execution_count": 3,
     "metadata": {},
     "output_type": "execute_result"
    }
   ],
   "source": [
    "df = p.get_superstore()\n",
    "df.head()"
   ]
  },
  {
   "cell_type": "markdown",
   "id": "5e5b6b55",
   "metadata": {},
   "source": [
    "# Germany"
   ]
  },
  {
   "cell_type": "markdown",
   "id": "49674bfa",
   "metadata": {},
   "source": [
    "Using the OPS data acquired in the Acquire exercises opsd_germany_daily.csv, complete the following:\n",
    "\n"
   ]
  },
  {
   "cell_type": "markdown",
   "id": "366708dd",
   "metadata": {},
   "source": [
    "# 1\n",
    "Convert date column to datetime format.\n"
   ]
  },
  {
   "cell_type": "markdown",
   "id": "ece6bf1b",
   "metadata": {},
   "source": [
    "#get the data\n",
    "url = 'https://raw.githubusercontent.com/jenfly/opsd/master/opsd_germany_daily.csv'\n",
    "df = a.get_power(url)\n",
    "df"
   ]
  },
  {
   "cell_type": "markdown",
   "id": "51042c6a",
   "metadata": {},
   "source": [
    "#check dtypes\n",
    "df.dtypes"
   ]
  },
  {
   "cell_type": "markdown",
   "id": "e92029bf",
   "metadata": {},
   "source": [
    "#rename columns\n",
    "df = df.rename(columns={'Date':'date','Consumption':'consumption','Wind':'wind','Solar':'solar','Wind+Solar':'wind_solar'})\n",
    "df"
   ]
  },
  {
   "cell_type": "markdown",
   "id": "9d0a03bb",
   "metadata": {},
   "source": [
    "#set datetime\n",
    "df.date = pd.to_datetime(df.date)\n",
    "df"
   ]
  },
  {
   "cell_type": "markdown",
   "id": "da810733",
   "metadata": {},
   "source": [
    "#verify datetime in proper format\n",
    "df.dtypes"
   ]
  },
  {
   "cell_type": "markdown",
   "id": "4168fdd6",
   "metadata": {},
   "source": [
    "# 2\n",
    "Plot the distribution of each of your variables.\n"
   ]
  },
  {
   "cell_type": "markdown",
   "id": "519c8821",
   "metadata": {},
   "source": [
    "df.head()"
   ]
  },
  {
   "cell_type": "markdown",
   "id": "fe082d45",
   "metadata": {},
   "source": [
    "#distribution of consumption\n",
    "df.consumption.hist()\n",
    "plt.show()"
   ]
  },
  {
   "cell_type": "markdown",
   "id": "7cd41f74",
   "metadata": {},
   "source": [
    "#distribution of wind\n",
    "df.wind.hist()\n",
    "plt.show()"
   ]
  },
  {
   "cell_type": "markdown",
   "id": "2b5e46e6",
   "metadata": {},
   "source": [
    "#distribution of solar\n",
    "df.solar.hist()\n",
    "plt.show()"
   ]
  },
  {
   "cell_type": "markdown",
   "id": "1e90fa7f",
   "metadata": {},
   "source": [
    "#distribution of wind_solar\n",
    "df.wind_solar.hist()\n",
    "plt.show()"
   ]
  },
  {
   "cell_type": "markdown",
   "id": "1817b2cb",
   "metadata": {},
   "source": [
    "# 3\n",
    "Set the index to be the datetime variable.\n"
   ]
  },
  {
   "cell_type": "markdown",
   "id": "1daddc5c",
   "metadata": {},
   "source": [
    "df = df.set_index('date')\n",
    "df.head()"
   ]
  },
  {
   "cell_type": "markdown",
   "id": "f64e5db8",
   "metadata": {},
   "source": [
    "df = df.sort_index()\n",
    "df.head()"
   ]
  },
  {
   "cell_type": "markdown",
   "id": "de171407",
   "metadata": {},
   "source": [
    "# 4\n",
    "Add a month and a year column to your dataframe.\n"
   ]
  },
  {
   "cell_type": "markdown",
   "id": "b37722f3",
   "metadata": {},
   "source": [
    "df['month'] = df.index.month_name() \n",
    "df.head()"
   ]
  },
  {
   "cell_type": "markdown",
   "id": "9e934728",
   "metadata": {},
   "source": [
    "df['year'] = df.index.strftime('%Y')\n",
    "df.head()\n"
   ]
  },
  {
   "cell_type": "markdown",
   "id": "a2e17654",
   "metadata": {},
   "source": [
    "# 5\n",
    "Fill any missing values."
   ]
  },
  {
   "cell_type": "markdown",
   "id": "d60b5f7b",
   "metadata": {},
   "source": [
    "df.isnull().sum()"
   ]
  },
  {
   "cell_type": "markdown",
   "id": "fcd4627e",
   "metadata": {},
   "source": [
    "df.shape"
   ]
  },
  {
   "cell_type": "markdown",
   "id": "9f19cbbf",
   "metadata": {},
   "source": [
    "df.wind.plot()"
   ]
  },
  {
   "cell_type": "markdown",
   "id": "15ddcb1d",
   "metadata": {},
   "source": [
    "df.solar.plot()"
   ]
  },
  {
   "cell_type": "markdown",
   "id": "4c1a65f1",
   "metadata": {},
   "source": [
    "plt.figure(figsize=(10,6))\n",
    "\n",
    "df.resample('M').mean().consumption.plot(label='Monthly Consumption')\n",
    "df.resample('M').mean().wind.plot(label='Monthly Wind production')\n",
    "df.resample('M').mean().wind_solar.plot(label='Monthly Solar production')\n",
    "df.resample('M').mean().wind_solar.plot(label='mothly Wind and Solar production')\n",
    "df.resample('M').mean().other_energy_sources.plot(label='Other energy sources')\n",
    "\n",
    "plt.title('consumption')\n",
    "plt.legend()\n",
    "plt.show()"
   ]
  },
  {
   "cell_type": "markdown",
   "id": "1c04333b",
   "metadata": {},
   "source": [
    "df = df.dropna()\n",
    "df.head()\n",
    "\n",
    "df.isnull().sum()\n",
    "\n",
    "df['other_energy_sources'] = df.consumption - df.wind_solar\n",
    "df"
   ]
  },
  {
   "cell_type": "markdown",
   "id": "ed73fc18",
   "metadata": {},
   "source": [
    "# 6\n",
    "Make sure all the work that you have done above is reproducible. That is, you should put the code above into separate functions and be able to re-run the functions and get the same results."
   ]
  },
  {
   "cell_type": "code",
   "execution_count": 7,
   "id": "b490efbf",
   "metadata": {
    "scrolled": true
   },
   "outputs": [
    {
     "data": {
      "text/html": [
       "<div>\n",
       "<style scoped>\n",
       "    .dataframe tbody tr th:only-of-type {\n",
       "        vertical-align: middle;\n",
       "    }\n",
       "\n",
       "    .dataframe tbody tr th {\n",
       "        vertical-align: top;\n",
       "    }\n",
       "\n",
       "    .dataframe thead th {\n",
       "        text-align: right;\n",
       "    }\n",
       "</style>\n",
       "<table border=\"1\" class=\"dataframe\">\n",
       "  <thead>\n",
       "    <tr style=\"text-align: right;\">\n",
       "      <th></th>\n",
       "      <th>consumption</th>\n",
       "      <th>wind</th>\n",
       "      <th>solar</th>\n",
       "      <th>wind_solar</th>\n",
       "      <th>month</th>\n",
       "      <th>year</th>\n",
       "      <th>other_energy_sources</th>\n",
       "    </tr>\n",
       "    <tr>\n",
       "      <th>date</th>\n",
       "      <th></th>\n",
       "      <th></th>\n",
       "      <th></th>\n",
       "      <th></th>\n",
       "      <th></th>\n",
       "      <th></th>\n",
       "      <th></th>\n",
       "    </tr>\n",
       "  </thead>\n",
       "  <tbody>\n",
       "    <tr>\n",
       "      <th>2012-01-01</th>\n",
       "      <td>948.128</td>\n",
       "      <td>227.465</td>\n",
       "      <td>6.587</td>\n",
       "      <td>234.052</td>\n",
       "      <td>January</td>\n",
       "      <td>2012</td>\n",
       "      <td>714.076</td>\n",
       "    </tr>\n",
       "    <tr>\n",
       "      <th>2012-01-02</th>\n",
       "      <td>1269.581</td>\n",
       "      <td>207.327</td>\n",
       "      <td>6.574</td>\n",
       "      <td>213.901</td>\n",
       "      <td>January</td>\n",
       "      <td>2012</td>\n",
       "      <td>1055.680</td>\n",
       "    </tr>\n",
       "    <tr>\n",
       "      <th>2012-01-03</th>\n",
       "      <td>1334.745</td>\n",
       "      <td>473.468</td>\n",
       "      <td>24.679</td>\n",
       "      <td>498.147</td>\n",
       "      <td>January</td>\n",
       "      <td>2012</td>\n",
       "      <td>836.598</td>\n",
       "    </tr>\n",
       "    <tr>\n",
       "      <th>2012-01-04</th>\n",
       "      <td>1347.136</td>\n",
       "      <td>499.804</td>\n",
       "      <td>14.681</td>\n",
       "      <td>514.485</td>\n",
       "      <td>January</td>\n",
       "      <td>2012</td>\n",
       "      <td>832.651</td>\n",
       "    </tr>\n",
       "    <tr>\n",
       "      <th>2012-01-05</th>\n",
       "      <td>1376.658</td>\n",
       "      <td>523.851</td>\n",
       "      <td>5.071</td>\n",
       "      <td>528.922</td>\n",
       "      <td>January</td>\n",
       "      <td>2012</td>\n",
       "      <td>847.736</td>\n",
       "    </tr>\n",
       "  </tbody>\n",
       "</table>\n",
       "</div>"
      ],
      "text/plain": [
       "            consumption     wind   solar  wind_solar    month  year  \\\n",
       "date                                                                  \n",
       "2012-01-01      948.128  227.465   6.587     234.052  January  2012   \n",
       "2012-01-02     1269.581  207.327   6.574     213.901  January  2012   \n",
       "2012-01-03     1334.745  473.468  24.679     498.147  January  2012   \n",
       "2012-01-04     1347.136  499.804  14.681     514.485  January  2012   \n",
       "2012-01-05     1376.658  523.851   5.071     528.922  January  2012   \n",
       "\n",
       "            other_energy_sources  \n",
       "date                              \n",
       "2012-01-01               714.076  \n",
       "2012-01-02              1055.680  \n",
       "2012-01-03               836.598  \n",
       "2012-01-04               832.651  \n",
       "2012-01-05               847.736  "
      ]
     },
     "execution_count": 7,
     "metadata": {},
     "output_type": "execute_result"
    }
   ],
   "source": [
    "#check that function works\n",
    "df = p.get_germany()\n",
    "df.head()"
   ]
  },
  {
   "cell_type": "code",
   "execution_count": 8,
   "id": "5faf271b",
   "metadata": {},
   "outputs": [
    {
     "data": {
      "text/plain": [
       "consumption             float64\n",
       "wind                    float64\n",
       "solar                   float64\n",
       "wind_solar              float64\n",
       "month                    object\n",
       "year                      int64\n",
       "other_energy_sources    float64\n",
       "dtype: object"
      ]
     },
     "execution_count": 8,
     "metadata": {},
     "output_type": "execute_result"
    }
   ],
   "source": [
    "df.dtypes"
   ]
  },
  {
   "cell_type": "code",
   "execution_count": 9,
   "id": "b353f497",
   "metadata": {},
   "outputs": [
    {
     "data": {
      "image/png": "[encoded data removed]",
      "text/plain": [
       "<Figure size 1000x600 with 1 Axes>"
      ]
     },
     "metadata": {},
     "output_type": "display_data"
    }
   ],
   "source": [
    "plt.figure(figsize=(10,6))\n",
    "\n",
    "df.resample('M').mean().consumption.plot(label='Monthly Consumption')\n",
    "df.resample('M').mean().wind.plot(label='Monthly Wind production')\n",
    "df.resample('M').mean().solar.plot(label='Monthly Solar production')\n",
    "df.resample('M').mean().wind_solar.plot(label='Monthly Wind and Solar production')\n",
    "df.resample('M').mean().other_energy_sources.plot(label='Other energy sources')\n",
    "\n",
    "plt.title('consumption')\n",
    "plt.legend()\n",
    "plt.show()"
   ]
  },
  {
   "cell_type": "code",
   "execution_count": null,
   "id": "31df1b5a",
   "metadata": {},
   "outputs": [],
   "source": []
  },
  {
   "cell_type": "code",
   "execution_count": null,
   "id": "d20bd282",
   "metadata": {},
   "outputs": [],
   "source": []
  }
 ],
 "metadata": {
  "kernelspec": {
   "display_name": "Python 3 (ipykernel)",
   "language": "python",
   "name": "python3"
  },
  "language_info": {
   "codemirror_mode": {
    "name": "ipython",
    "version": 3
   },
   "file_extension": ".py",
   "mimetype": "text/x-python",
   "name": "python",
   "nbconvert_exporter": "python",
   "pygments_lexer": "ipython3",
   "version": "3.9.13"
  }
 },
 "nbformat": 4,
 "nbformat_minor": 5
}
